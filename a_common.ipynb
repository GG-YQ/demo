{
 "cells": [
  {
   "cell_type": "code",
   "execution_count": 6,
   "metadata": {},
   "outputs": [
    {
     "name": "stdout",
     "output_type": "stream",
     "text": [
      "执行进度：100%；耗时3.1\r"
     ]
    }
   ],
   "source": [
    "#进度、计时\n",
    "import time\n",
    "\n",
    "time_start = time.time()\n",
    "for i in range(100):\n",
    "    time.sleep(0.02)\n",
    "    time_end = time.time()\n",
    "    time_spend = time_end-time_start\n",
    "    print('执行进度：{s1:3d}%；耗时{s2:.1f}'.format(s1=(i+1),s2=time_spend),end='\\r')\n",
    "    "
   ]
  },
  {
   "cell_type": "code",
   "execution_count": null,
   "metadata": {},
   "outputs": [],
   "source": [
    "#文档转换pdf2docx: $ pip install pdf2docx\n",
    "from pdf2docx import Converter\n",
    "\n",
    "pdf_file='C:\\xx\\xx.pdf'\n",
    "docx_file='C:\\xx\\xx.docx'\n",
    "cv=Converter(pdf_file)\n",
    "cv.convert(docx_file,start=0,end=None,pages=[45,46,79]) #pages优先于start和end参数。\n",
    "cv.close()"
   ]
  }
 ],
 "metadata": {
  "kernelspec": {
   "display_name": "base",
   "language": "python",
   "name": "python3"
  },
  "language_info": {
   "codemirror_mode": {
    "name": "ipython",
    "version": 3
   },
   "file_extension": ".py",
   "mimetype": "text/x-python",
   "name": "python",
   "nbconvert_exporter": "python",
   "pygments_lexer": "ipython3",
   "version": "3.9.13"
  },
  "orig_nbformat": 4,
  "vscode": {
   "interpreter": {
    "hash": "d61a106f4f95053d975edfedf808c4ae0acbb7ba9bad92599ad0b36f7f6653ee"
   }
  }
 },
 "nbformat": 4,
 "nbformat_minor": 2
}
