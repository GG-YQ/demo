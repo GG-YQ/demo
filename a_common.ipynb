{
 "cells": [
  {
   "cell_type": "code",
   "execution_count": 79,
   "metadata": {},
   "outputs": [
    {
     "name": "stdout",
     "output_type": "stream",
     "text": [
      "第1种监控： 30%；耗时3.3\r"
     ]
    },
    {
     "name": "stderr",
     "output_type": "stream",
     "text": [
      "第2种监控: 100%|██████████| 30/30 [00:03<00:00,  9.23it/s]\n",
      "第2种监控29: 100%|██████████| 30/30 [00:03<00:00,  9.23it/s]\n",
      "第3种监控: 100%|██████████| 300/300 [00:03<00:00, 92.16it/s]\n"
     ]
    }
   ],
   "source": [
    "#进度监控\n",
    "import time\n",
    "from tqdm import tqdm\n",
    "\n",
    "time_start = time.time()\n",
    "for i in range(30):\n",
    "    time.sleep(0.1)\n",
    "    time_end = time.time()\n",
    "    time_spend = time_end-time_start\n",
    "    print('第1种监控：{s1:3d}%；耗时{s2:.1f}'.format(s1=(i+1),s2=time_spend),end='\\r')\n",
    "\n",
    "# 最简洁使用\n",
    "for i in tqdm(iterable=range(30),desc='第2种监控'):\n",
    "    time.sleep(0.1)\n",
    "\n",
    "# 自动更新进度\n",
    "pbar=tqdm(iterable=range(30),desc='第2种监控')\n",
    "for i in pbar:\n",
    "    pbar.set_description('第2种监控'+str(i))\n",
    "    time.sleep(0.1)\n",
    "\n",
    "# 手动更新进度\n",
    "with tqdm(total=300) as pbar:\n",
    "    pbar.set_description('第3种监控')\n",
    "    for i in range(30):    \n",
    "        time.sleep(0.1)\n",
    "        pbar.update(10)"
   ]
  },
  {
   "cell_type": "code",
   "execution_count": 1,
   "metadata": {},
   "outputs": [
    {
     "name": "stderr",
     "output_type": "stream",
     "text": [
      "监控: 100%|██████████| 30/30 [00:08<00:00,  3.68it/s]\n"
     ]
    }
   ],
   "source": [
    "# 多进程进度监控1：使用map将无法显示进度，从0直接到100没有过程，使用imap可展示遍历过程。不加list()无法正常显示进度条\n",
    "from multiprocessing import Pool\n",
    "import time\n",
    "from tqdm import tqdm\n",
    "import demo1.demo1 as d\n",
    "\n",
    "\n",
    "if __name__ == '__main__':\n",
    "    value_x= range(30)\n",
    "    P = Pool(processes=4)\n",
    "    res = [P.apply_async(func=d.myf, args=(i, ),) for i in value_x]       \n",
    "\n",
    "    for i in tqdm(iterable=res,desc='监控'):\n",
    "        i.get(timeout=2)\n",
    "\n",
    "    P.close()\n",
    "    P.join()"
   ]
  },
  {
   "cell_type": "code",
   "execution_count": 1,
   "metadata": {},
   "outputs": [
    {
     "name": "stderr",
     "output_type": "stream",
     "text": [
      "mypow:   0%|          | 0/30 [00:00<?, ?it/s]"
     ]
    }
   ],
   "source": [
    "from multiprocessing import Pool\n",
    "import tqdm\n",
    "import time\n",
    "\n",
    "def mypow(x):\n",
    "    square = x * x\n",
    "    time.sleep(0.1)\n",
    "    return square \n",
    "\n",
    "with Pool(10) as p:\n",
    "    r = list(tqdm.tqdm(p.imap(mypow, range(30)), total=30, desc=\"mypow\"))"
   ]
  },
  {
   "cell_type": "code",
   "execution_count": null,
   "metadata": {},
   "outputs": [],
   "source": [
    "#文档转换pdf2docx: $ pip install pdf2docx\n",
    "from pdf2docx import Converter\n",
    "\n",
    "pdf_file='C:\\xx\\xx.pdf'\n",
    "docx_file='C:\\xx\\xx.docx'\n",
    "cv=Converter(pdf_file)\n",
    "cv.convert(docx_file,start=0,end=None,pages=[45,46,79]) #pages优先于start和end参数。\n",
    "cv.close()"
   ]
  }
 ],
 "metadata": {
  "kernelspec": {
   "display_name": "base",
   "language": "python",
   "name": "python3"
  },
  "language_info": {
   "codemirror_mode": {
    "name": "ipython",
    "version": 3
   },
   "file_extension": ".py",
   "mimetype": "text/x-python",
   "name": "python",
   "nbconvert_exporter": "python",
   "pygments_lexer": "ipython3",
   "version": "3.9.13"
  },
  "orig_nbformat": 4,
  "vscode": {
   "interpreter": {
    "hash": "d61a106f4f95053d975edfedf808c4ae0acbb7ba9bad92599ad0b36f7f6653ee"
   }
  }
 },
 "nbformat": 4,
 "nbformat_minor": 2
}
