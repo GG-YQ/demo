{
 "cells": [
  {
   "attachments": {},
   "cell_type": "markdown",
   "metadata": {},
   "source": [
    "# 常用\n",
    "## 从本目录下的文件demo1导入模块demo1\n",
    "```\n",
    "import sys\n",
    "sys.path.append('./')\n",
    "from demo1 import demo1\n",
    "```\n",
    "## 图像\n",
    "1. plotly\n",
    "```\n",
    "import plotly\n",
    "import plotly.plotly as py      #第3版离线模式为import plotly.offline as py，第4版后只有离线。\n",
    "import plotly.figure_factory as ff\n",
    "import plotly.graph_objs as go   \n",
    "import plotly.express as px \n",
    "from plotly import subplots \n",
    "import plotly.io as pio\n",
    "\n",
    "#输出到本地，write_image可以输出'svg' 'png' 'jpeg' 'webp' 'pdf'\n",
    "fig.write_html(\"filepath/filename.html\") \n",
    "fig.write_image(\"filepath/filename.svg\")\n",
    "\n",
    "添加注释文本：https://plotly.com/python/text-and-annotations/，其他的(go.layout.Annotation)\n",
    "1. Certain trace types, notably in the scatter family (e.g. scatter, scatter3d, scattergeo etc), support a text attribute, and can be displayed with or without markers.\n",
    "2. Standalone text annotations can be added to figures using fig.add_annotation(), with or without arrows, and they can be positioned absolutely within the figure, or they can be positioned relative to the axes of 2d or 3d cartesian subplots i.e. in data coordinates.\n",
    "\n",
    "添加辅线、辅面：https://plotly.com/python/shapes/\n",
    "1. Trace types in the scatter family (e.g. scatter, scatter3d, scattergeo etc) can be drawn with mode=\"lines\" and optionally support a fill=\"self\" attribute, and so can be used to draw open or closed shapes on figures.\n",
    "2. Standalone lines, ellipses and rectangles can be added to figures using fig.add_shape(), and they can be positioned absolutely within the figure, or they can be positioned relative to the axes of 2d cartesian subplots i.e. in data coordinates. there are special methods add_hline, add_vline, add_hrect and add_vrect for the common cases of wanting to draw horizontal or vertical lines or rectangles that are fixed to data coordinates in one axis and absolutely positioned in another.\n",
    "\n",
    "箭头：\n",
    "1. 2D：批量箭头create_quiver；单个箭头添加annotation；箭头线段用scatter.marker\n",
    "- Quiver plots：figure_factory.create_quiver\n",
    "- Annotations：plotly.graph_objects.Annotations is deprecated. Replace it with a list or tuple of instances of the following types\n",
    "    - plotly.graph_objects.layout.Annotation\n",
    "    - plotly.graph_objects.layout.scene.Annotation\n",
    "2. 3D\n",
    "go.Cone\n",
    "\n",
    "图层设置：搜索官网关键词layer\\overlap\\overlay\n",
    "1. trace之间的遮盖设置参数：scatter的参数stackgroup、marker.standoff、line.backoff、cliponaxis、fill、fillpattern_fgopacity；layout的参数scattermode，one of ( \"group\" | \"overlay\" ).\n",
    "推荐使用layout的scattermode、barmode等等，scattermode：Determines how scatter points at the same location coordinate are displayed on the graph. With \"group\", the scatter points are plotted next to one another centered around the shared location. With \"overlay\", the scatter points are plotted over one another, you might need to reduce \"opacity\" to see multiple scatter points.\n",
    "2. add辅线面参数：layer，one of ( \"below\" | \"above\" )，specifies whether shapes are drawn below or above traces.\n",
    "3. 坐标轴参数：layer， , one of ( \"above traces\" | \"below traces\" )\n",
    "\n",
    "文字里用Latex(vscode渲染有问题，直接在浏览器渲染！！！)：<https://github.com/plotly/plotly.py/blob/master/doc/python/LaTeX.md>\n",
    "Figure titles, axis labels and annotations all accept LaTeX directives for rendering mathematical formulas and notation, when the entire label is surrounded by dollar signs $...$. This rendering is handled by the MathJax library (version 2.7.5), which must be loaded in the environment where figures are being rendered. MathJax is included by default in Jupyter-like environments, but when embedding Plotly figures in other contexts it may be required to ensure that MathJax is separately loaded, for example via a <script> tag pointing to a content-delivery network (CDN).\n",
    "```"
   ]
  },
  {
   "cell_type": "code",
   "execution_count": 2,
   "metadata": {},
   "outputs": [],
   "source": [
    "import pandas as pd\n",
    "import plotly.figure_factory as ff\n",
    "import plotly.graph_objs as go \n",
    "\n",
    "file = r'data\\buble.csv'\n",
    "df=pd.read_csv(file,encoding='gb2312') #encoding默认编码方式采用utf-8，cvs文件的表头带中文汉字时会报错，需改为国家汉字标准编码方式是\"gb2312\"。"
   ]
  },
  {
   "cell_type": "code",
   "execution_count": 61,
   "metadata": {},
   "outputs": [
    {
     "data": {
      "application/vnd.plotly.v1+json": {
       "config": {
        "plotlyServerURL": "https://plot.ly"
       },
       "data": [
        {
         "line": {
          "color": "rgb(0,0,0)"
         },
         "mode": "lines",
         "showlegend": false,
         "type": "scatter",
         "x": [
          -8,
          8
         ],
         "y": [
          5,
          5
         ]
        },
        {
         "line": {
          "color": "rgb(0,0,0)"
         },
         "mode": "lines",
         "showlegend": false,
         "type": "scatter",
         "x": [
          5,
          5
         ],
         "y": [
          -10,
          10
         ]
        },
        {
         "marker": {
          "color": "rgb(0,0,0)",
          "size": 8,
          "symbol": "arrow-up"
         },
         "mode": "markers+text",
         "showlegend": false,
         "text": [
          "x越来越大"
         ],
         "textposition": "middle left",
         "type": "scatter",
         "x": [
          5
         ],
         "y": [
          10
         ]
        },
        {
         "marker": {
          "color": "rgb(0,0,0)",
          "size": 8,
          "symbol": "arrow-right"
         },
         "mode": "markers+text",
         "showlegend": false,
         "text": [
          "y越来越大"
         ],
         "textposition": "bottom left",
         "type": "scatter",
         "x": [
          8
         ],
         "y": [
          5
         ]
        },
        {
         "mode": "markers+lines+text",
         "name": "$\\alpha_{1c} = 352\\pm 11 \\text{ km s}^{-1}$",
         "text": [
          "备注1",
          "备注2",
          "备注3",
          "备注4",
          "备注5",
          "备注6",
          "备注7",
          "备注8",
          "备注9",
          "备注10",
          "备注11"
         ],
         "textposition": "middle center",
         "type": "scatter",
         "x": [
          3.5,
          -3.5,
          5.5,
          -5.5,
          3.5,
          -3.5,
          5.5,
          -5.5,
          3.5,
          -3.5,
          5.5
         ],
         "xaxis": "x",
         "y": [
          23,
          35,
          22,
          36,
          78,
          47,
          25,
          72,
          25,
          62,
          35
         ],
         "yaxis": "y2"
        },
        {
         "marker": {
          "color": [
           23,
           35,
           22,
           36,
           78,
           47,
           25,
           72,
           25,
           62,
           35
          ],
          "size": [
           230,
           350,
           220,
           360,
           780,
           470,
           250,
           720,
           250,
           620,
           350
          ],
          "sizemin": 5,
          "sizemode": "area"
         },
         "mode": "markers+text",
         "name": "气泡",
         "text": [
          "备注1",
          "备注2",
          "备注3",
          "备注4",
          "备注5",
          "备注6",
          "备注7",
          "备注8",
          "备注9",
          "备注10",
          "备注11"
         ],
         "textposition": "middle center",
         "type": "scatter",
         "x": [
          -2,
          -3,
          3,
          1,
          -3,
          -5,
          -4.1,
          -5,
          4,
          3,
          6
         ],
         "y": [
          3,
          -4,
          5,
          -6,
          3,
          -4,
          5,
          -6,
          3,
          -4,
          5
         ]
        }
       ],
       "layout": {
        "annotations": [
         {
          "arrowhead": 1,
          "showarrow": true,
          "text": "Text annotation with arrow",
          "x": -4.1,
          "y": -20
         },
         {
          "showarrow": false,
          "text": "Text annotation without arrow",
          "x": 3,
          "y": 5,
          "yshift": 10
         }
        ],
        "legend": {
         "orientation": "h",
         "x": 0.6,
         "y": 1.2
        },
        "paper_bgcolor": "rgb(230,230,230)",
        "plot_bgcolor": "rgb(230,230,230)",
        "shapes": [
         {
          "line": {
           "color": "rgb(0,0,0)",
           "width": 3
          },
          "type": "line",
          "x0": 0,
          "x1": 0,
          "y0": -30,
          "y1": 30
         },
         {
          "fillcolor": "rgb(0,230,0)",
          "layer": "below",
          "line": {
           "color": "rgb(150,230,230)",
           "width": 30
          },
          "opacity": 0.9,
          "type": "rect",
          "x0": -5,
          "x1": 5,
          "y0": 0,
          "y1": 0
         }
        ],
        "template": {
         "data": {
          "bar": [
           {
            "error_x": {
             "color": "#2a3f5f"
            },
            "error_y": {
             "color": "#2a3f5f"
            },
            "marker": {
             "line": {
              "color": "#E5ECF6",
              "width": 0.5
             },
             "pattern": {
              "fillmode": "overlay",
              "size": 10,
              "solidity": 0.2
             }
            },
            "type": "bar"
           }
          ],
          "barpolar": [
           {
            "marker": {
             "line": {
              "color": "#E5ECF6",
              "width": 0.5
             },
             "pattern": {
              "fillmode": "overlay",
              "size": 10,
              "solidity": 0.2
             }
            },
            "type": "barpolar"
           }
          ],
          "carpet": [
           {
            "aaxis": {
             "endlinecolor": "#2a3f5f",
             "gridcolor": "white",
             "linecolor": "white",
             "minorgridcolor": "white",
             "startlinecolor": "#2a3f5f"
            },
            "baxis": {
             "endlinecolor": "#2a3f5f",
             "gridcolor": "white",
             "linecolor": "white",
             "minorgridcolor": "white",
             "startlinecolor": "#2a3f5f"
            },
            "type": "carpet"
           }
          ],
          "choropleth": [
           {
            "colorbar": {
             "outlinewidth": 0,
             "ticks": ""
            },
            "type": "choropleth"
           }
          ],
          "contour": [
           {
            "colorbar": {
             "outlinewidth": 0,
             "ticks": ""
            },
            "colorscale": [
             [
              0,
              "#0d0887"
             ],
             [
              0.1111111111111111,
              "#46039f"
             ],
             [
              0.2222222222222222,
              "#7201a8"
             ],
             [
              0.3333333333333333,
              "#9c179e"
             ],
             [
              0.4444444444444444,
              "#bd3786"
             ],
             [
              0.5555555555555556,
              "#d8576b"
             ],
             [
              0.6666666666666666,
              "#ed7953"
             ],
             [
              0.7777777777777778,
              "#fb9f3a"
             ],
             [
              0.8888888888888888,
              "#fdca26"
             ],
             [
              1,
              "#f0f921"
             ]
            ],
            "type": "contour"
           }
          ],
          "contourcarpet": [
           {
            "colorbar": {
             "outlinewidth": 0,
             "ticks": ""
            },
            "type": "contourcarpet"
           }
          ],
          "heatmap": [
           {
            "colorbar": {
             "outlinewidth": 0,
             "ticks": ""
            },
            "colorscale": [
             [
              0,
              "#0d0887"
             ],
             [
              0.1111111111111111,
              "#46039f"
             ],
             [
              0.2222222222222222,
              "#7201a8"
             ],
             [
              0.3333333333333333,
              "#9c179e"
             ],
             [
              0.4444444444444444,
              "#bd3786"
             ],
             [
              0.5555555555555556,
              "#d8576b"
             ],
             [
              0.6666666666666666,
              "#ed7953"
             ],
             [
              0.7777777777777778,
              "#fb9f3a"
             ],
             [
              0.8888888888888888,
              "#fdca26"
             ],
             [
              1,
              "#f0f921"
             ]
            ],
            "type": "heatmap"
           }
          ],
          "heatmapgl": [
           {
            "colorbar": {
             "outlinewidth": 0,
             "ticks": ""
            },
            "colorscale": [
             [
              0,
              "#0d0887"
             ],
             [
              0.1111111111111111,
              "#46039f"
             ],
             [
              0.2222222222222222,
              "#7201a8"
             ],
             [
              0.3333333333333333,
              "#9c179e"
             ],
             [
              0.4444444444444444,
              "#bd3786"
             ],
             [
              0.5555555555555556,
              "#d8576b"
             ],
             [
              0.6666666666666666,
              "#ed7953"
             ],
             [
              0.7777777777777778,
              "#fb9f3a"
             ],
             [
              0.8888888888888888,
              "#fdca26"
             ],
             [
              1,
              "#f0f921"
             ]
            ],
            "type": "heatmapgl"
           }
          ],
          "histogram": [
           {
            "marker": {
             "pattern": {
              "fillmode": "overlay",
              "size": 10,
              "solidity": 0.2
             }
            },
            "type": "histogram"
           }
          ],
          "histogram2d": [
           {
            "colorbar": {
             "outlinewidth": 0,
             "ticks": ""
            },
            "colorscale": [
             [
              0,
              "#0d0887"
             ],
             [
              0.1111111111111111,
              "#46039f"
             ],
             [
              0.2222222222222222,
              "#7201a8"
             ],
             [
              0.3333333333333333,
              "#9c179e"
             ],
             [
              0.4444444444444444,
              "#bd3786"
             ],
             [
              0.5555555555555556,
              "#d8576b"
             ],
             [
              0.6666666666666666,
              "#ed7953"
             ],
             [
              0.7777777777777778,
              "#fb9f3a"
             ],
             [
              0.8888888888888888,
              "#fdca26"
             ],
             [
              1,
              "#f0f921"
             ]
            ],
            "type": "histogram2d"
           }
          ],
          "histogram2dcontour": [
           {
            "colorbar": {
             "outlinewidth": 0,
             "ticks": ""
            },
            "colorscale": [
             [
              0,
              "#0d0887"
             ],
             [
              0.1111111111111111,
              "#46039f"
             ],
             [
              0.2222222222222222,
              "#7201a8"
             ],
             [
              0.3333333333333333,
              "#9c179e"
             ],
             [
              0.4444444444444444,
              "#bd3786"
             ],
             [
              0.5555555555555556,
              "#d8576b"
             ],
             [
              0.6666666666666666,
              "#ed7953"
             ],
             [
              0.7777777777777778,
              "#fb9f3a"
             ],
             [
              0.8888888888888888,
              "#fdca26"
             ],
             [
              1,
              "#f0f921"
             ]
            ],
            "type": "histogram2dcontour"
           }
          ],
          "mesh3d": [
           {
            "colorbar": {
             "outlinewidth": 0,
             "ticks": ""
            },
            "type": "mesh3d"
           }
          ],
          "parcoords": [
           {
            "line": {
             "colorbar": {
              "outlinewidth": 0,
              "ticks": ""
             }
            },
            "type": "parcoords"
           }
          ],
          "pie": [
           {
            "automargin": true,
            "type": "pie"
           }
          ],
          "scatter": [
           {
            "fillpattern": {
             "fillmode": "overlay",
             "size": 10,
             "solidity": 0.2
            },
            "type": "scatter"
           }
          ],
          "scatter3d": [
           {
            "line": {
             "colorbar": {
              "outlinewidth": 0,
              "ticks": ""
             }
            },
            "marker": {
             "colorbar": {
              "outlinewidth": 0,
              "ticks": ""
             }
            },
            "type": "scatter3d"
           }
          ],
          "scattercarpet": [
           {
            "marker": {
             "colorbar": {
              "outlinewidth": 0,
              "ticks": ""
             }
            },
            "type": "scattercarpet"
           }
          ],
          "scattergeo": [
           {
            "marker": {
             "colorbar": {
              "outlinewidth": 0,
              "ticks": ""
             }
            },
            "type": "scattergeo"
           }
          ],
          "scattergl": [
           {
            "marker": {
             "colorbar": {
              "outlinewidth": 0,
              "ticks": ""
             }
            },
            "type": "scattergl"
           }
          ],
          "scattermapbox": [
           {
            "marker": {
             "colorbar": {
              "outlinewidth": 0,
              "ticks": ""
             }
            },
            "type": "scattermapbox"
           }
          ],
          "scatterpolar": [
           {
            "marker": {
             "colorbar": {
              "outlinewidth": 0,
              "ticks": ""
             }
            },
            "type": "scatterpolar"
           }
          ],
          "scatterpolargl": [
           {
            "marker": {
             "colorbar": {
              "outlinewidth": 0,
              "ticks": ""
             }
            },
            "type": "scatterpolargl"
           }
          ],
          "scatterternary": [
           {
            "marker": {
             "colorbar": {
              "outlinewidth": 0,
              "ticks": ""
             }
            },
            "type": "scatterternary"
           }
          ],
          "surface": [
           {
            "colorbar": {
             "outlinewidth": 0,
             "ticks": ""
            },
            "colorscale": [
             [
              0,
              "#0d0887"
             ],
             [
              0.1111111111111111,
              "#46039f"
             ],
             [
              0.2222222222222222,
              "#7201a8"
             ],
             [
              0.3333333333333333,
              "#9c179e"
             ],
             [
              0.4444444444444444,
              "#bd3786"
             ],
             [
              0.5555555555555556,
              "#d8576b"
             ],
             [
              0.6666666666666666,
              "#ed7953"
             ],
             [
              0.7777777777777778,
              "#fb9f3a"
             ],
             [
              0.8888888888888888,
              "#fdca26"
             ],
             [
              1,
              "#f0f921"
             ]
            ],
            "type": "surface"
           }
          ],
          "table": [
           {
            "cells": {
             "fill": {
              "color": "#EBF0F8"
             },
             "line": {
              "color": "white"
             }
            },
            "header": {
             "fill": {
              "color": "#C8D4E3"
             },
             "line": {
              "color": "white"
             }
            },
            "type": "table"
           }
          ]
         },
         "layout": {
          "annotationdefaults": {
           "arrowcolor": "#2a3f5f",
           "arrowhead": 0,
           "arrowwidth": 1
          },
          "autotypenumbers": "strict",
          "coloraxis": {
           "colorbar": {
            "outlinewidth": 0,
            "ticks": ""
           }
          },
          "colorscale": {
           "diverging": [
            [
             0,
             "#8e0152"
            ],
            [
             0.1,
             "#c51b7d"
            ],
            [
             0.2,
             "#de77ae"
            ],
            [
             0.3,
             "#f1b6da"
            ],
            [
             0.4,
             "#fde0ef"
            ],
            [
             0.5,
             "#f7f7f7"
            ],
            [
             0.6,
             "#e6f5d0"
            ],
            [
             0.7,
             "#b8e186"
            ],
            [
             0.8,
             "#7fbc41"
            ],
            [
             0.9,
             "#4d9221"
            ],
            [
             1,
             "#276419"
            ]
           ],
           "sequential": [
            [
             0,
             "#0d0887"
            ],
            [
             0.1111111111111111,
             "#46039f"
            ],
            [
             0.2222222222222222,
             "#7201a8"
            ],
            [
             0.3333333333333333,
             "#9c179e"
            ],
            [
             0.4444444444444444,
             "#bd3786"
            ],
            [
             0.5555555555555556,
             "#d8576b"
            ],
            [
             0.6666666666666666,
             "#ed7953"
            ],
            [
             0.7777777777777778,
             "#fb9f3a"
            ],
            [
             0.8888888888888888,
             "#fdca26"
            ],
            [
             1,
             "#f0f921"
            ]
           ],
           "sequentialminus": [
            [
             0,
             "#0d0887"
            ],
            [
             0.1111111111111111,
             "#46039f"
            ],
            [
             0.2222222222222222,
             "#7201a8"
            ],
            [
             0.3333333333333333,
             "#9c179e"
            ],
            [
             0.4444444444444444,
             "#bd3786"
            ],
            [
             0.5555555555555556,
             "#d8576b"
            ],
            [
             0.6666666666666666,
             "#ed7953"
            ],
            [
             0.7777777777777778,
             "#fb9f3a"
            ],
            [
             0.8888888888888888,
             "#fdca26"
            ],
            [
             1,
             "#f0f921"
            ]
           ]
          },
          "colorway": [
           "#636efa",
           "#EF553B",
           "#00cc96",
           "#ab63fa",
           "#FFA15A",
           "#19d3f3",
           "#FF6692",
           "#B6E880",
           "#FF97FF",
           "#FECB52"
          ],
          "font": {
           "color": "#2a3f5f"
          },
          "geo": {
           "bgcolor": "white",
           "lakecolor": "white",
           "landcolor": "#E5ECF6",
           "showlakes": true,
           "showland": true,
           "subunitcolor": "white"
          },
          "hoverlabel": {
           "align": "left"
          },
          "hovermode": "closest",
          "mapbox": {
           "style": "light"
          },
          "paper_bgcolor": "white",
          "plot_bgcolor": "#E5ECF6",
          "polar": {
           "angularaxis": {
            "gridcolor": "white",
            "linecolor": "white",
            "ticks": ""
           },
           "bgcolor": "#E5ECF6",
           "radialaxis": {
            "gridcolor": "white",
            "linecolor": "white",
            "ticks": ""
           }
          },
          "scene": {
           "xaxis": {
            "backgroundcolor": "#E5ECF6",
            "gridcolor": "white",
            "gridwidth": 2,
            "linecolor": "white",
            "showbackground": true,
            "ticks": "",
            "zerolinecolor": "white"
           },
           "yaxis": {
            "backgroundcolor": "#E5ECF6",
            "gridcolor": "white",
            "gridwidth": 2,
            "linecolor": "white",
            "showbackground": true,
            "ticks": "",
            "zerolinecolor": "white"
           },
           "zaxis": {
            "backgroundcolor": "#E5ECF6",
            "gridcolor": "white",
            "gridwidth": 2,
            "linecolor": "white",
            "showbackground": true,
            "ticks": "",
            "zerolinecolor": "white"
           }
          },
          "shapedefaults": {
           "line": {
            "color": "#2a3f5f"
           }
          },
          "ternary": {
           "aaxis": {
            "gridcolor": "white",
            "linecolor": "white",
            "ticks": ""
           },
           "baxis": {
            "gridcolor": "white",
            "linecolor": "white",
            "ticks": ""
           },
           "bgcolor": "#E5ECF6",
           "caxis": {
            "gridcolor": "white",
            "linecolor": "white",
            "ticks": ""
           }
          },
          "title": {
           "x": 0.05
          },
          "xaxis": {
           "automargin": true,
           "gridcolor": "white",
           "linecolor": "white",
           "ticks": "",
           "title": {
            "standoff": 15
           },
           "zerolinecolor": "white",
           "zerolinewidth": 2
          },
          "yaxis": {
           "automargin": true,
           "gridcolor": "white",
           "linecolor": "white",
           "ticks": "",
           "title": {
            "standoff": 15
           },
           "zerolinecolor": "white",
           "zerolinewidth": 2
          }
         }
        },
        "title": {
         "text": "标题",
         "x": 0.5,
         "y": 0.95
        },
        "xaxis": {
         "dtick": 2,
         "showgrid": false,
         "ticks": "inside",
         "title": {
          "text": "x轴"
         },
         "zeroline": false,
         "zerolinecolor": "rgb(0,0,0)"
        },
        "yaxis": {
         "nticks": 4,
         "ticks": "inside",
         "title": {
          "text": "y轴"
         }
        },
        "yaxis2": {
         "anchor": "x",
         "nticks": 4,
         "overlaying": "y",
         "showgrid": false,
         "side": "right",
         "ticks": "inside",
         "title": {
          "text": "y2轴"
         }
        }
       }
      }
     },
     "metadata": {},
     "output_type": "display_data"
    }
   ],
   "source": [
    "fig = go.Figure()\n",
    "\n",
    "trace01=go.Scatter(x=[-8,8],y=[5,5],mode='lines',line={'color':'rgb(0,0,0)'},showlegend=False)\n",
    "trace02=go.Scatter(x=[5,5],y=[-10,10],mode='lines',line={'color':'rgb(0,0,0)'},showlegend=False)\n",
    "trace03=go.Scatter(x=[5],y=[10],text=['x越来越大'],textposition='middle left',mode='markers+text',\n",
    "marker={'color':'rgb(0,0,0)','symbol':'arrow-up','size':8},showlegend=False)\n",
    "trace04=go.Scatter(x=[8],y=[5],text=['y越来越大'],textposition='bottom left',mode='markers+text',\n",
    "marker={'color':'rgb(0,0,0)','symbol':'arrow-right','size':8},showlegend=False)\n",
    "\n",
    "trace1=go.Scatter(name='气泡',x=df['因素一'],y=df['因素二'],text=df['备注'],textposition='middle center',mode='markers+text',\n",
    "    marker=dict(\n",
    "        color=df['因素四'],\n",
    "        size=df['因素四']*10,\n",
    "        sizemode='area',\n",
    "        sizemin=5\n",
    "    ))\n",
    "trace2=go.Scatter(name=r'$\\alpha_{1c} = 352\\pm 11 \\text{ km s}^{-1}$',x=df['因素三'],y=df['因素四'],text=df['备注'],textposition='middle center',mode='markers+lines+text',\n",
    "    xaxis='x',\n",
    "    yaxis='y2'\n",
    ")\n",
    "fig.add_traces(data=[trace01,trace02,trace03,trace04,trace2,trace1])\n",
    "\n",
    "fig.add_annotation(x=-4.1, y=-20,\n",
    "            text=\"Text annotation with arrow\",\n",
    "            showarrow=True,\n",
    "            arrowhead=1)\n",
    "fig.add_annotation(x=3, y=5,\n",
    "            text=\"Text annotation without arrow\",\n",
    "            showarrow=False,\n",
    "            yshift=10)\n",
    "fig.add_shape(type=\"line\",\n",
    "    x0=0, y0=-30, x1=0, y1=30,\n",
    "    line=dict(color=\"rgb(0,0,0)\",width=3)\n",
    ")\n",
    "fig.add_shape(type=\"rect\",\n",
    "    x0=-5, y0=0, x1=5, y1=0,\n",
    "    line=dict(\n",
    "        color=\"rgb(150,230,230)\",\n",
    "        width=30,\n",
    "    ),\n",
    "    fillcolor=\"rgb(0,230,0)\",\n",
    "    opacity=0.9,\n",
    "    layer=\"below\", #Specifies whether new shapes are drawn below or above traces.\n",
    ")\n",
    "\n",
    "layout=go.Layout({\n",
    "    'paper_bgcolor':'rgb(230,230,230)',\n",
    "    'plot_bgcolor':'rgb(230,230,230)',\n",
    "    'title':{'text':'标题','y':0.95,'x':0.5},\n",
    "    'legend':{'orientation':'h','y':1.2,'x':0.6},\n",
    "    'xaxis':{'title':'x轴','ticks':'inside','dtick':2,'showgrid':False,'zeroline':False,'zerolinecolor':'rgb(0,0,0)'},\n",
    "    'yaxis':{'title':'y轴','ticks':'inside','nticks':4},\n",
    "    'yaxis2':{'title':'y2轴','ticks':'inside','nticks':4,'showgrid':False,'anchor': 'x',\"overlaying\": 'y','side': 'right'},\n",
    "    })\n",
    "fig.update_layout(layout)\n",
    "\n",
    "fig.show()"
   ]
  },
  {
   "cell_type": "markdown",
   "metadata": {},
   "source": []
  }
 ],
 "metadata": {
  "kernelspec": {
   "display_name": "base",
   "language": "python",
   "name": "python3"
  },
  "language_info": {
   "codemirror_mode": {
    "name": "ipython",
    "version": 3
   },
   "file_extension": ".py",
   "mimetype": "text/x-python",
   "name": "python",
   "nbconvert_exporter": "python",
   "pygments_lexer": "ipython3",
   "version": "3.9.13"
  },
  "orig_nbformat": 4,
  "vscode": {
   "interpreter": {
    "hash": "d61a106f4f95053d975edfedf808c4ae0acbb7ba9bad92599ad0b36f7f6653ee"
   }
  }
 },
 "nbformat": 4,
 "nbformat_minor": 2
}
