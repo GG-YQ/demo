{
 "cells": [
  {
   "attachments": {},
   "cell_type": "markdown",
   "metadata": {},
   "source": [
    "# 常用\n",
    "## 从本目录下的文件demo1导入模块demo1\n",
    "```\n",
    "import sys\n",
    "sys.path.append('./')\n",
    "from demo1 import demo1\n",
    "```\n",
    "## 图像导出\n",
    "```\n",
    "import plotly\n",
    "import plotly.plotly as py      #第3版离线模式为import plotly.offline as py，第4版后只有离线。\n",
    "import plotly.graph_objs as go   \n",
    "import plotly.express as px \n",
    "from plotly import subplots \n",
    "import plotly.io as pio\n",
    "\n",
    "#输出到本地，write_image可以输出'svg' 'png' 'jpeg' 'webp' 'pdf'\n",
    "fig.write_html(\"filepath/filename.html\") \n",
    "fig.write_image(\"filepath/filename.svg\")\n",
    "\n",
    "添加注释文本：https://plotly.com/python/text-and-annotations/，其他的(go.layout.Annotation)\n",
    "1. Certain trace types, notably in the scatter family (e.g. scatter, scatter3d, scattergeo etc), support a text attribute, and can be displayed with or without markers.\n",
    "2. Standalone text annotations can be added to figures using fig.add_annotation(), with or without arrows, and they can be positioned absolutely within the figure, or they can be positioned relative to the axes of 2d or 3d cartesian subplots i.e. in data coordinates.\n",
    "\n",
    "添加辅线、辅面：https://plotly.com/python/shapes/\n",
    "1. Trace types in the scatter family (e.g. scatter, scatter3d, scattergeo etc) can be drawn with mode=\"lines\" and optionally support a fill=\"self\" attribute, and so can be used to draw open or closed shapes on figures.\n",
    "2. Standalone lines, ellipses and rectangles can be added to figures using fig.add_shape(), and they can be positioned absolutely within the figure, or they can be positioned relative to the axes of 2d cartesian subplots i.e. in data coordinates. there are special methods add_hline, add_vline, add_hrect and add_vrect for the common cases of wanting to draw horizontal or vertical lines or rectangles that are fixed to data coordinates in one axis and absolutely positioned in another.\n",
    "\n",
    "图层设置：搜索官网关键词layer\\overlap\\overlay\n",
    "1. trace之间的遮盖设置参数：scatter的参数stackgroup、marker.standoff、line.backoff、cliponaxis、fill、fillpattern_fgopacity；layout的参数scattermode，one of ( \"group\" | \"overlay\" ).\n",
    "推荐使用layout的scattermode、barmode等等，scattermode：Determines how scatter points at the same location coordinate are displayed on the graph. With \"group\", the scatter points are plotted next to one another centered around the shared location. With \"overlay\", the scatter points are plotted over one another, you might need to reduce \"opacity\" to see multiple scatter points.\n",
    "2. add辅线面参数：layer，one of ( \"below\" | \"above\" )，specifies whether shapes are drawn below or above traces.\n",
    "3. 坐标轴参数：layer， , one of ( \"above traces\" | \"below traces\" )\n",
    "```"
   ]
  },
  {
   "cell_type": "code",
   "execution_count": 5,
   "metadata": {},
   "outputs": [],
   "source": [
    "import plotly\n",
    "import plotly.graph_objs as go \n",
    "import plotly.express as px \n",
    "import pandas as pd"
   ]
  },
  {
   "cell_type": "code",
   "execution_count": 4,
   "metadata": {},
   "outputs": [],
   "source": [
    "file = r'data\\buble.csv'\n",
    "df=pd.read_csv(file,encoding='gb2312') #encoding默认编码方式采用utf-8，cvs文件的表头带中文汉字时会报错，需改为国家汉字标准编码方式是\"gb2312\"。"
   ]
  },
  {
   "cell_type": "code",
   "execution_count": 5,
   "metadata": {},
   "outputs": [
    {
     "name": "stderr",
     "output_type": "stream",
     "text": [
      "c:\\Users\\gao45\\anaconda3\\lib\\site-packages\\plotly\\graph_objs\\_deprecations.py:378: DeprecationWarning:\n",
      "\n",
      "plotly.graph_objs.Line is deprecated.\n",
      "Please replace it with one of the following more specific types\n",
      "  - plotly.graph_objs.scatter.Line\n",
      "  - plotly.graph_objs.layout.shape.Line\n",
      "  - etc.\n",
      "\n",
      "\n"
     ]
    },
    {
     "data": {
      "application/vnd.plotly.v1+json": {
       "config": {
        "plotlyServerURL": "https://plot.ly"
       },
       "data": [
        {
         "mode": "markers+lines+text",
         "name": "折线",
         "text": [
          "备注1",
          "备注2",
          "备注3",
          "备注4",
          "备注5",
          "备注6",
          "备注7",
          "备注8",
          "备注9",
          "备注10",
          "备注11"
         ],
         "textposition": "middle center",
         "type": "scatter",
         "x": [
          3.5,
          -3.5,
          5.5,
          -5.5,
          3.5,
          -3.5,
          5.5,
          -5.5,
          3.5,
          -3.5,
          5.5
         ],
         "xaxis": "x",
         "y": [
          23,
          35,
          22,
          36,
          78,
          47,
          25,
          72,
          25,
          62,
          35
         ],
         "yaxis": "y2"
        },
        {
         "marker": {
          "size": [
           230,
           350,
           220,
           360,
           780,
           470,
           250,
           720,
           250,
           620,
           350
          ],
          "sizemin": 5,
          "sizemode": "area"
         },
         "mode": "markers+text",
         "name": "气泡",
         "text": [
          "备注1",
          "备注2",
          "备注3",
          "备注4",
          "备注5",
          "备注6",
          "备注7",
          "备注8",
          "备注9",
          "备注10",
          "备注11"
         ],
         "textposition": "middle center",
         "type": "scatter",
         "x": [
          -2,
          -3,
          3,
          1,
          -3,
          -5,
          -4.1,
          -5,
          4,
          3,
          6
         ],
         "y": [
          3,
          -4,
          5,
          -6,
          3,
          -4,
          5,
          -6,
          3,
          -4,
          5
         ]
        }
       ],
       "layout": {
        "annotations": [
         {
          "arrowhead": 1,
          "showarrow": true,
          "text": "Text annotation with arrow",
          "x": -4.1,
          "y": -20
         },
         {
          "showarrow": false,
          "text": "Text annotation without arrow",
          "x": 3,
          "y": 5,
          "yshift": 10
         }
        ],
        "legend": {
         "orientation": "h",
         "x": 0.6,
         "y": 1.2
        },
        "paper_bgcolor": "rgb(230,230,230)",
        "plot_bgcolor": "rgb(230,230,230)",
        "shapes": [
         {
          "line": {
           "color": "rgb(0,0,0)",
           "width": 3
          },
          "type": "line",
          "x0": 0,
          "x1": 0,
          "y0": -30,
          "y1": 30
         },
         {
          "fillcolor": "rgb(0,230,0)",
          "layer": "below",
          "line": {
           "color": "rgb(200,230,230)",
           "width": 30
          },
          "opacity": 0.9,
          "type": "rect",
          "x0": -5,
          "x1": 5,
          "y0": 0,
          "y1": 0
         }
        ],
        "template": {
         "data": {
          "bar": [
           {
            "error_x": {
             "color": "#2a3f5f"
            },
            "error_y": {
             "color": "#2a3f5f"
            },
            "marker": {
             "line": {
              "color": "#E5ECF6",
              "width": 0.5
             },
             "pattern": {
              "fillmode": "overlay",
              "size": 10,
              "solidity": 0.2
             }
            },
            "type": "bar"
           }
          ],
          "barpolar": [
           {
            "marker": {
             "line": {
              "color": "#E5ECF6",
              "width": 0.5
             },
             "pattern": {
              "fillmode": "overlay",
              "size": 10,
              "solidity": 0.2
             }
            },
            "type": "barpolar"
           }
          ],
          "carpet": [
           {
            "aaxis": {
             "endlinecolor": "#2a3f5f",
             "gridcolor": "white",
             "linecolor": "white",
             "minorgridcolor": "white",
             "startlinecolor": "#2a3f5f"
            },
            "baxis": {
             "endlinecolor": "#2a3f5f",
             "gridcolor": "white",
             "linecolor": "white",
             "minorgridcolor": "white",
             "startlinecolor": "#2a3f5f"
            },
            "type": "carpet"
           }
          ],
          "choropleth": [
           {
            "colorbar": {
             "outlinewidth": 0,
             "ticks": ""
            },
            "type": "choropleth"
           }
          ],
          "contour": [
           {
            "colorbar": {
             "outlinewidth": 0,
             "ticks": ""
            },
            "colorscale": [
             [
              0,
              "#0d0887"
             ],
             [
              0.1111111111111111,
              "#46039f"
             ],
             [
              0.2222222222222222,
              "#7201a8"
             ],
             [
              0.3333333333333333,
              "#9c179e"
             ],
             [
              0.4444444444444444,
              "#bd3786"
             ],
             [
              0.5555555555555556,
              "#d8576b"
             ],
             [
              0.6666666666666666,
              "#ed7953"
             ],
             [
              0.7777777777777778,
              "#fb9f3a"
             ],
             [
              0.8888888888888888,
              "#fdca26"
             ],
             [
              1,
              "#f0f921"
             ]
            ],
            "type": "contour"
           }
          ],
          "contourcarpet": [
           {
            "colorbar": {
             "outlinewidth": 0,
             "ticks": ""
            },
            "type": "contourcarpet"
           }
          ],
          "heatmap": [
           {
            "colorbar": {
             "outlinewidth": 0,
             "ticks": ""
            },
            "colorscale": [
             [
              0,
              "#0d0887"
             ],
             [
              0.1111111111111111,
              "#46039f"
             ],
             [
              0.2222222222222222,
              "#7201a8"
             ],
             [
              0.3333333333333333,
              "#9c179e"
             ],
             [
              0.4444444444444444,
              "#bd3786"
             ],
             [
              0.5555555555555556,
              "#d8576b"
             ],
             [
              0.6666666666666666,
              "#ed7953"
             ],
             [
              0.7777777777777778,
              "#fb9f3a"
             ],
             [
              0.8888888888888888,
              "#fdca26"
             ],
             [
              1,
              "#f0f921"
             ]
            ],
            "type": "heatmap"
           }
          ],
          "heatmapgl": [
           {
            "colorbar": {
             "outlinewidth": 0,
             "ticks": ""
            },
            "colorscale": [
             [
              0,
              "#0d0887"
             ],
             [
              0.1111111111111111,
              "#46039f"
             ],
             [
              0.2222222222222222,
              "#7201a8"
             ],
             [
              0.3333333333333333,
              "#9c179e"
             ],
             [
              0.4444444444444444,
              "#bd3786"
             ],
             [
              0.5555555555555556,
              "#d8576b"
             ],
             [
              0.6666666666666666,
              "#ed7953"
             ],
             [
              0.7777777777777778,
              "#fb9f3a"
             ],
             [
              0.8888888888888888,
              "#fdca26"
             ],
             [
              1,
              "#f0f921"
             ]
            ],
            "type": "heatmapgl"
           }
          ],
          "histogram": [
           {
            "marker": {
             "pattern": {
              "fillmode": "overlay",
              "size": 10,
              "solidity": 0.2
             }
            },
            "type": "histogram"
           }
          ],
          "histogram2d": [
           {
            "colorbar": {
             "outlinewidth": 0,
             "ticks": ""
            },
            "colorscale": [
             [
              0,
              "#0d0887"
             ],
             [
              0.1111111111111111,
              "#46039f"
             ],
             [
              0.2222222222222222,
              "#7201a8"
             ],
             [
              0.3333333333333333,
              "#9c179e"
             ],
             [
              0.4444444444444444,
              "#bd3786"
             ],
             [
              0.5555555555555556,
              "#d8576b"
             ],
             [
              0.6666666666666666,
              "#ed7953"
             ],
             [
              0.7777777777777778,
              "#fb9f3a"
             ],
             [
              0.8888888888888888,
              "#fdca26"
             ],
             [
              1,
              "#f0f921"
             ]
            ],
            "type": "histogram2d"
           }
          ],
          "histogram2dcontour": [
           {
            "colorbar": {
             "outlinewidth": 0,
             "ticks": ""
            },
            "colorscale": [
             [
              0,
              "#0d0887"
             ],
             [
              0.1111111111111111,
              "#46039f"
             ],
             [
              0.2222222222222222,
              "#7201a8"
             ],
             [
              0.3333333333333333,
              "#9c179e"
             ],
             [
              0.4444444444444444,
              "#bd3786"
             ],
             [
              0.5555555555555556,
              "#d8576b"
             ],
             [
              0.6666666666666666,
              "#ed7953"
             ],
             [
              0.7777777777777778,
              "#fb9f3a"
             ],
             [
              0.8888888888888888,
              "#fdca26"
             ],
             [
              1,
              "#f0f921"
             ]
            ],
            "type": "histogram2dcontour"
           }
          ],
          "mesh3d": [
           {
            "colorbar": {
             "outlinewidth": 0,
             "ticks": ""
            },
            "type": "mesh3d"
           }
          ],
          "parcoords": [
           {
            "line": {
             "colorbar": {
              "outlinewidth": 0,
              "ticks": ""
             }
            },
            "type": "parcoords"
           }
          ],
          "pie": [
           {
            "automargin": true,
            "type": "pie"
           }
          ],
          "scatter": [
           {
            "fillpattern": {
             "fillmode": "overlay",
             "size": 10,
             "solidity": 0.2
            },
            "type": "scatter"
           }
          ],
          "scatter3d": [
           {
            "line": {
             "colorbar": {
              "outlinewidth": 0,
              "ticks": ""
             }
            },
            "marker": {
             "colorbar": {
              "outlinewidth": 0,
              "ticks": ""
             }
            },
            "type": "scatter3d"
           }
          ],
          "scattercarpet": [
           {
            "marker": {
             "colorbar": {
              "outlinewidth": 0,
              "ticks": ""
             }
            },
            "type": "scattercarpet"
           }
          ],
          "scattergeo": [
           {
            "marker": {
             "colorbar": {
              "outlinewidth": 0,
              "ticks": ""
             }
            },
            "type": "scattergeo"
           }
          ],
          "scattergl": [
           {
            "marker": {
             "colorbar": {
              "outlinewidth": 0,
              "ticks": ""
             }
            },
            "type": "scattergl"
           }
          ],
          "scattermapbox": [
           {
            "marker": {
             "colorbar": {
              "outlinewidth": 0,
              "ticks": ""
             }
            },
            "type": "scattermapbox"
           }
          ],
          "scatterpolar": [
           {
            "marker": {
             "colorbar": {
              "outlinewidth": 0,
              "ticks": ""
             }
            },
            "type": "scatterpolar"
           }
          ],
          "scatterpolargl": [
           {
            "marker": {
             "colorbar": {
              "outlinewidth": 0,
              "ticks": ""
             }
            },
            "type": "scatterpolargl"
           }
          ],
          "scatterternary": [
           {
            "marker": {
             "colorbar": {
              "outlinewidth": 0,
              "ticks": ""
             }
            },
            "type": "scatterternary"
           }
          ],
          "surface": [
           {
            "colorbar": {
             "outlinewidth": 0,
             "ticks": ""
            },
            "colorscale": [
             [
              0,
              "#0d0887"
             ],
             [
              0.1111111111111111,
              "#46039f"
             ],
             [
              0.2222222222222222,
              "#7201a8"
             ],
             [
              0.3333333333333333,
              "#9c179e"
             ],
             [
              0.4444444444444444,
              "#bd3786"
             ],
             [
              0.5555555555555556,
              "#d8576b"
             ],
             [
              0.6666666666666666,
              "#ed7953"
             ],
             [
              0.7777777777777778,
              "#fb9f3a"
             ],
             [
              0.8888888888888888,
              "#fdca26"
             ],
             [
              1,
              "#f0f921"
             ]
            ],
            "type": "surface"
           }
          ],
          "table": [
           {
            "cells": {
             "fill": {
              "color": "#EBF0F8"
             },
             "line": {
              "color": "white"
             }
            },
            "header": {
             "fill": {
              "color": "#C8D4E3"
             },
             "line": {
              "color": "white"
             }
            },
            "type": "table"
           }
          ]
         },
         "layout": {
          "annotationdefaults": {
           "arrowcolor": "#2a3f5f",
           "arrowhead": 0,
           "arrowwidth": 1
          },
          "autotypenumbers": "strict",
          "coloraxis": {
           "colorbar": {
            "outlinewidth": 0,
            "ticks": ""
           }
          },
          "colorscale": {
           "diverging": [
            [
             0,
             "#8e0152"
            ],
            [
             0.1,
             "#c51b7d"
            ],
            [
             0.2,
             "#de77ae"
            ],
            [
             0.3,
             "#f1b6da"
            ],
            [
             0.4,
             "#fde0ef"
            ],
            [
             0.5,
             "#f7f7f7"
            ],
            [
             0.6,
             "#e6f5d0"
            ],
            [
             0.7,
             "#b8e186"
            ],
            [
             0.8,
             "#7fbc41"
            ],
            [
             0.9,
             "#4d9221"
            ],
            [
             1,
             "#276419"
            ]
           ],
           "sequential": [
            [
             0,
             "#0d0887"
            ],
            [
             0.1111111111111111,
             "#46039f"
            ],
            [
             0.2222222222222222,
             "#7201a8"
            ],
            [
             0.3333333333333333,
             "#9c179e"
            ],
            [
             0.4444444444444444,
             "#bd3786"
            ],
            [
             0.5555555555555556,
             "#d8576b"
            ],
            [
             0.6666666666666666,
             "#ed7953"
            ],
            [
             0.7777777777777778,
             "#fb9f3a"
            ],
            [
             0.8888888888888888,
             "#fdca26"
            ],
            [
             1,
             "#f0f921"
            ]
           ],
           "sequentialminus": [
            [
             0,
             "#0d0887"
            ],
            [
             0.1111111111111111,
             "#46039f"
            ],
            [
             0.2222222222222222,
             "#7201a8"
            ],
            [
             0.3333333333333333,
             "#9c179e"
            ],
            [
             0.4444444444444444,
             "#bd3786"
            ],
            [
             0.5555555555555556,
             "#d8576b"
            ],
            [
             0.6666666666666666,
             "#ed7953"
            ],
            [
             0.7777777777777778,
             "#fb9f3a"
            ],
            [
             0.8888888888888888,
             "#fdca26"
            ],
            [
             1,
             "#f0f921"
            ]
           ]
          },
          "colorway": [
           "#636efa",
           "#EF553B",
           "#00cc96",
           "#ab63fa",
           "#FFA15A",
           "#19d3f3",
           "#FF6692",
           "#B6E880",
           "#FF97FF",
           "#FECB52"
          ],
          "font": {
           "color": "#2a3f5f"
          },
          "geo": {
           "bgcolor": "white",
           "lakecolor": "white",
           "landcolor": "#E5ECF6",
           "showlakes": true,
           "showland": true,
           "subunitcolor": "white"
          },
          "hoverlabel": {
           "align": "left"
          },
          "hovermode": "closest",
          "mapbox": {
           "style": "light"
          },
          "paper_bgcolor": "white",
          "plot_bgcolor": "#E5ECF6",
          "polar": {
           "angularaxis": {
            "gridcolor": "white",
            "linecolor": "white",
            "ticks": ""
           },
           "bgcolor": "#E5ECF6",
           "radialaxis": {
            "gridcolor": "white",
            "linecolor": "white",
            "ticks": ""
           }
          },
          "scene": {
           "xaxis": {
            "backgroundcolor": "#E5ECF6",
            "gridcolor": "white",
            "gridwidth": 2,
            "linecolor": "white",
            "showbackground": true,
            "ticks": "",
            "zerolinecolor": "white"
           },
           "yaxis": {
            "backgroundcolor": "#E5ECF6",
            "gridcolor": "white",
            "gridwidth": 2,
            "linecolor": "white",
            "showbackground": true,
            "ticks": "",
            "zerolinecolor": "white"
           },
           "zaxis": {
            "backgroundcolor": "#E5ECF6",
            "gridcolor": "white",
            "gridwidth": 2,
            "linecolor": "white",
            "showbackground": true,
            "ticks": "",
            "zerolinecolor": "white"
           }
          },
          "shapedefaults": {
           "line": {
            "color": "#2a3f5f"
           }
          },
          "ternary": {
           "aaxis": {
            "gridcolor": "white",
            "linecolor": "white",
            "ticks": ""
           },
           "baxis": {
            "gridcolor": "white",
            "linecolor": "white",
            "ticks": ""
           },
           "bgcolor": "#E5ECF6",
           "caxis": {
            "gridcolor": "white",
            "linecolor": "white",
            "ticks": ""
           }
          },
          "title": {
           "x": 0.05
          },
          "xaxis": {
           "automargin": true,
           "gridcolor": "white",
           "linecolor": "white",
           "ticks": "",
           "title": {
            "standoff": 15
           },
           "zerolinecolor": "white",
           "zerolinewidth": 2
          },
          "yaxis": {
           "automargin": true,
           "gridcolor": "white",
           "linecolor": "white",
           "ticks": "",
           "title": {
            "standoff": 15
           },
           "zerolinecolor": "white",
           "zerolinewidth": 2
          }
         }
        },
        "title": {
         "text": "标题",
         "x": 0.5,
         "y": 0.95
        },
        "xaxis": {
         "dtick": 2,
         "showgrid": false,
         "ticks": "inside",
         "title": {
          "text": "x轴"
         },
         "zeroline": false,
         "zerolinecolor": "rgb(0,0,0)"
        },
        "yaxis": {
         "nticks": 4,
         "ticks": "inside",
         "title": {
          "text": "y轴"
         }
        },
        "yaxis2": {
         "anchor": "x",
         "nticks": 4,
         "overlaying": "y",
         "showgrid": false,
         "side": "right",
         "ticks": "inside",
         "title": {
          "text": "y2轴"
         }
        }
       }
      }
     },
     "metadata": {},
     "output_type": "display_data"
    }
   ],
   "source": [
    "fig = go.Figure()\n",
    "\n",
    "trace1=go.Scatter(name='气泡',x=df['因素一'],y=df['因素二'],text=df['备注'],textposition='middle center',mode='markers+text',\n",
    "    marker=dict(\n",
    "        #color=df['因素四'],\n",
    "        size=df['因素四']*10,\n",
    "        sizemode='area',\n",
    "        sizemin=5\n",
    "    ))\n",
    "trace2=go.Line(name='折线',x=df['因素三'],y=df['因素四'],text=df['备注'],textposition='middle center',mode='markers+lines+text',\n",
    "    xaxis='x',\n",
    "    yaxis='y2'\n",
    ")\n",
    "fig.add_traces(data=[trace2,trace1])\n",
    "\n",
    "fig.add_annotation(x=-4.1, y=-20,\n",
    "            text=\"Text annotation with arrow\",\n",
    "            showarrow=True,\n",
    "            arrowhead=1)\n",
    "fig.add_annotation(x=3, y=5,\n",
    "            text=\"Text annotation without arrow\",\n",
    "            showarrow=False,\n",
    "            yshift=10)\n",
    "fig.add_shape(type=\"line\",\n",
    "    x0=0, y0=-30, x1=0, y1=30,\n",
    "    line=dict(color=\"rgb(0,0,0)\",width=3)\n",
    ")\n",
    "fig.add_shape(type=\"rect\",\n",
    "    x0=-5, y0=0, x1=5, y1=0,\n",
    "    line=dict(\n",
    "        color=\"rgb(200,230,230)\",\n",
    "        width=30,\n",
    "    ),\n",
    "    fillcolor=\"rgb(0,230,0)\",\n",
    "    opacity=0.9,\n",
    "    layer=\"below\", #Specifies whether new shapes are drawn below or above traces.\n",
    ")\n",
    "\n",
    "layout=go.Layout({\n",
    "    'paper_bgcolor':'rgb(230,230,230)',\n",
    "    'plot_bgcolor':'rgb(230,230,230)',\n",
    "    'title':{'text':'标题','y':0.95,'x':0.5},\n",
    "    'legend':{'orientation':'h','y':1.2,'x':0.6},\n",
    "    'xaxis':{'title':'x轴','ticks':'inside','dtick':2,'showgrid':False,'zeroline':False,'zerolinecolor':'rgb(0,0,0)'},\n",
    "    'yaxis':{'title':'y轴','ticks':'inside','nticks':4},\n",
    "    'yaxis2':{'title':'y2轴','ticks':'inside','nticks':4,'showgrid':False,'anchor': 'x',\"overlaying\": 'y','side': 'right'},\n",
    "    })\n",
    "fig.update_layout(layout)\n",
    "\n",
    "fig.show()"
   ]
  },
  {
   "cell_type": "code",
   "execution_count": 3,
   "metadata": {},
   "outputs": [
    {
     "name": "stdout",
     "output_type": "stream",
     "text": [
      "done\n"
     ]
    }
   ],
   "source": [
    "fig.write_html(\"graph/x1.html\")\n",
    "fig.write_image(\"graph/x1.svg\")\n",
    "print('done')"
   ]
  },
  {
   "cell_type": "code",
   "execution_count": 9,
   "metadata": {},
   "outputs": [
    {
     "name": "stdout",
     "output_type": "stream",
     "text": [
      "Help on class Annotation in module plotly.graph_objs.layout._annotation:\n",
      "\n",
      "class Annotation(plotly.basedatatypes.BaseLayoutHierarchyType)\n",
      " |  Annotation(arg=None, align=None, arrowcolor=None, arrowhead=None, arrowside=None, arrowsize=None, arrowwidth=None, ax=None, axref=None, ay=None, ayref=None, bgcolor=None, bordercolor=None, borderpad=None, borderwidth=None, captureevents=None, clicktoshow=None, font=None, height=None, hoverlabel=None, hovertext=None, name=None, opacity=None, showarrow=None, standoff=None, startarrowhead=None, startarrowsize=None, startstandoff=None, templateitemname=None, text=None, textangle=None, valign=None, visible=None, width=None, x=None, xanchor=None, xclick=None, xref=None, xshift=None, y=None, yanchor=None, yclick=None, yref=None, yshift=None, **kwargs)\n",
      " |  \n",
      " |  Method resolution order:\n",
      " |      Annotation\n",
      " |      plotly.basedatatypes.BaseLayoutHierarchyType\n",
      " |      plotly.basedatatypes.BasePlotlyType\n",
      " |      builtins.object\n",
      " |  \n",
      " |  Methods defined here:\n",
      " |  \n",
      " |  __init__(self, arg=None, align=None, arrowcolor=None, arrowhead=None, arrowside=None, arrowsize=None, arrowwidth=None, ax=None, axref=None, ay=None, ayref=None, bgcolor=None, bordercolor=None, borderpad=None, borderwidth=None, captureevents=None, clicktoshow=None, font=None, height=None, hoverlabel=None, hovertext=None, name=None, opacity=None, showarrow=None, standoff=None, startarrowhead=None, startarrowsize=None, startstandoff=None, templateitemname=None, text=None, textangle=None, valign=None, visible=None, width=None, x=None, xanchor=None, xclick=None, xref=None, xshift=None, y=None, yanchor=None, yclick=None, yref=None, yshift=None, **kwargs)\n",
      " |      Construct a new Annotation object\n",
      " |      \n",
      " |      Parameters\n",
      " |      ----------\n",
      " |      arg\n",
      " |          dict of properties compatible with this constructor or\n",
      " |          an instance of\n",
      " |          :class:`plotly.graph_objs.layout.Annotation`\n",
      " |      align\n",
      " |          Sets the horizontal alignment of the `text` within the\n",
      " |          box. Has an effect only if `text` spans two or more\n",
      " |          lines (i.e. `text` contains one or more <br> HTML tags)\n",
      " |          or if an explicit width is set to override the text\n",
      " |          width.\n",
      " |      arrowcolor\n",
      " |          Sets the color of the annotation arrow.\n",
      " |      arrowhead\n",
      " |          Sets the end annotation arrow head style.\n",
      " |      arrowside\n",
      " |          Sets the annotation arrow head position.\n",
      " |      arrowsize\n",
      " |          Sets the size of the end annotation arrow head,\n",
      " |          relative to `arrowwidth`. A value of 1 (default) gives\n",
      " |          a head about 3x as wide as the line.\n",
      " |      arrowwidth\n",
      " |          Sets the width (in px) of annotation arrow line.\n",
      " |      ax\n",
      " |          Sets the x component of the arrow tail about the arrow\n",
      " |          head. If `axref` is `pixel`, a positive (negative)\n",
      " |          component corresponds to an arrow pointing from right\n",
      " |          to left (left to right). If `axref` is not `pixel` and\n",
      " |          is exactly the same as `xref`, this is an absolute\n",
      " |          value on that axis, like `x`, specified in the same\n",
      " |          coordinates as `xref`.\n",
      " |      axref\n",
      " |          Indicates in what coordinates the tail of the\n",
      " |          annotation (ax,ay) is specified. If set to a ax axis id\n",
      " |          (e.g. \"ax\" or \"ax2\"), the `ax` position refers to a ax\n",
      " |          coordinate. If set to \"paper\", the `ax` position refers\n",
      " |          to the distance from the left of the plotting area in\n",
      " |          normalized coordinates where 0 (1) corresponds to the\n",
      " |          left (right). If set to a ax axis ID followed by\n",
      " |          \"domain\" (separated by a space), the position behaves\n",
      " |          like for \"paper\", but refers to the distance in\n",
      " |          fractions of the domain length from the left of the\n",
      " |          domain of that axis: e.g., *ax2 domain* refers to the\n",
      " |          domain of the second ax  axis and a ax position of 0.5\n",
      " |          refers to the point between the left and the right of\n",
      " |          the domain of the second ax axis. In order for absolute\n",
      " |          positioning of the arrow to work, \"axref\" must be\n",
      " |          exactly the same as \"xref\", otherwise \"axref\" will\n",
      " |          revert to \"pixel\" (explained next). For relative\n",
      " |          positioning, \"axref\" can be set to \"pixel\", in which\n",
      " |          case the \"ax\" value is specified in pixels relative to\n",
      " |          \"x\". Absolute positioning is useful for trendline\n",
      " |          annotations which should continue to indicate the\n",
      " |          correct trend when zoomed. Relative positioning is\n",
      " |          useful for specifying the text offset for an annotated\n",
      " |          point.\n",
      " |      ay\n",
      " |          Sets the y component of the arrow tail about the arrow\n",
      " |          head. If `ayref` is `pixel`, a positive (negative)\n",
      " |          component corresponds to an arrow pointing from bottom\n",
      " |          to top (top to bottom). If `ayref` is not `pixel` and\n",
      " |          is exactly the same as `yref`, this is an absolute\n",
      " |          value on that axis, like `y`, specified in the same\n",
      " |          coordinates as `yref`.\n",
      " |      ayref\n",
      " |          Indicates in what coordinates the tail of the\n",
      " |          annotation (ax,ay) is specified. If set to a ay axis id\n",
      " |          (e.g. \"ay\" or \"ay2\"), the `ay` position refers to a ay\n",
      " |          coordinate. If set to \"paper\", the `ay` position refers\n",
      " |          to the distance from the bottom of the plotting area in\n",
      " |          normalized coordinates where 0 (1) corresponds to the\n",
      " |          bottom (top). If set to a ay axis ID followed by\n",
      " |          \"domain\" (separated by a space), the position behaves\n",
      " |          like for \"paper\", but refers to the distance in\n",
      " |          fractions of the domain length from the bottom of the\n",
      " |          domain of that axis: e.g., *ay2 domain* refers to the\n",
      " |          domain of the second ay  axis and a ay position of 0.5\n",
      " |          refers to the point between the bottom and the top of\n",
      " |          the domain of the second ay axis. In order for absolute\n",
      " |          positioning of the arrow to work, \"ayref\" must be\n",
      " |          exactly the same as \"yref\", otherwise \"ayref\" will\n",
      " |          revert to \"pixel\" (explained next). For relative\n",
      " |          positioning, \"ayref\" can be set to \"pixel\", in which\n",
      " |          case the \"ay\" value is specified in pixels relative to\n",
      " |          \"y\". Absolute positioning is useful for trendline\n",
      " |          annotations which should continue to indicate the\n",
      " |          correct trend when zoomed. Relative positioning is\n",
      " |          useful for specifying the text offset for an annotated\n",
      " |          point.\n",
      " |      bgcolor\n",
      " |          Sets the background color of the annotation.\n",
      " |      bordercolor\n",
      " |          Sets the color of the border enclosing the annotation\n",
      " |          `text`.\n",
      " |      borderpad\n",
      " |          Sets the padding (in px) between the `text` and the\n",
      " |          enclosing border.\n",
      " |      borderwidth\n",
      " |          Sets the width (in px) of the border enclosing the\n",
      " |          annotation `text`.\n",
      " |      captureevents\n",
      " |          Determines whether the annotation text box captures\n",
      " |          mouse move and click events, or allows those events to\n",
      " |          pass through to data points in the plot that may be\n",
      " |          behind the annotation. By default `captureevents` is\n",
      " |          False unless `hovertext` is provided. If you use the\n",
      " |          event `plotly_clickannotation` without `hovertext` you\n",
      " |          must explicitly enable `captureevents`.\n",
      " |      clicktoshow\n",
      " |          Makes this annotation respond to clicks on the plot. If\n",
      " |          you click a data point that exactly matches the `x` and\n",
      " |          `y` values of this annotation, and it is hidden\n",
      " |          (visible: false), it will appear. In \"onoff\" mode, you\n",
      " |          must click the same point again to make it disappear,\n",
      " |          so if you click multiple points, you can show multiple\n",
      " |          annotations. In \"onout\" mode, a click anywhere else in\n",
      " |          the plot (on another data point or not) will hide this\n",
      " |          annotation. If you need to show/hide this annotation in\n",
      " |          response to different `x` or `y` values, you can set\n",
      " |          `xclick` and/or `yclick`. This is useful for example to\n",
      " |          label the side of a bar. To label markers though,\n",
      " |          `standoff` is preferred over `xclick` and `yclick`.\n",
      " |      font\n",
      " |          Sets the annotation text font.\n",
      " |      height\n",
      " |          Sets an explicit height for the text box. null\n",
      " |          (default) lets the text set the box height. Taller text\n",
      " |          will be clipped.\n",
      " |      hoverlabel\n",
      " |          :class:`plotly.graph_objects.layout.annotation.Hoverlab\n",
      " |          el` instance or dict with compatible properties\n",
      " |      hovertext\n",
      " |          Sets text to appear when hovering over this annotation.\n",
      " |          If omitted or blank, no hover label will appear.\n",
      " |      name\n",
      " |          When used in a template, named items are created in the\n",
      " |          output figure in addition to any items the figure\n",
      " |          already has in this array. You can modify these items\n",
      " |          in the output figure by making your own item with\n",
      " |          `templateitemname` matching this `name` alongside your\n",
      " |          modifications (including `visible: false` or `enabled:\n",
      " |          false` to hide it). Has no effect outside of a\n",
      " |          template.\n",
      " |      opacity\n",
      " |          Sets the opacity of the annotation (text + arrow).\n",
      " |      showarrow\n",
      " |          Determines whether or not the annotation is drawn with\n",
      " |          an arrow. If True, `text` is placed near the arrow's\n",
      " |          tail. If False, `text` lines up with the `x` and `y`\n",
      " |          provided.\n",
      " |      standoff\n",
      " |          Sets a distance, in pixels, to move the end arrowhead\n",
      " |          away from the position it is pointing at, for example\n",
      " |          to point at the edge of a marker independent of zoom.\n",
      " |          Note that this shortens the arrow from the `ax` / `ay`\n",
      " |          vector, in contrast to `xshift` / `yshift` which moves\n",
      " |          everything by this amount.\n",
      " |      startarrowhead\n",
      " |          Sets the start annotation arrow head style.\n",
      " |      startarrowsize\n",
      " |          Sets the size of the start annotation arrow head,\n",
      " |          relative to `arrowwidth`. A value of 1 (default) gives\n",
      " |          a head about 3x as wide as the line.\n",
      " |      startstandoff\n",
      " |          Sets a distance, in pixels, to move the start arrowhead\n",
      " |          away from the position it is pointing at, for example\n",
      " |          to point at the edge of a marker independent of zoom.\n",
      " |          Note that this shortens the arrow from the `ax` / `ay`\n",
      " |          vector, in contrast to `xshift` / `yshift` which moves\n",
      " |          everything by this amount.\n",
      " |      templateitemname\n",
      " |          Used to refer to a named item in this array in the\n",
      " |          template. Named items from the template will be created\n",
      " |          even without a matching item in the input figure, but\n",
      " |          you can modify one by making an item with\n",
      " |          `templateitemname` matching its `name`, alongside your\n",
      " |          modifications (including `visible: false` or `enabled:\n",
      " |          false` to hide it). If there is no template or no\n",
      " |          matching item, this item will be hidden unless you\n",
      " |          explicitly show it with `visible: true`.\n",
      " |      text\n",
      " |          Sets the text associated with this annotation. Plotly\n",
      " |          uses a subset of HTML tags to do things like newline\n",
      " |          (<br>), bold (<b></b>), italics (<i></i>), hyperlinks\n",
      " |          (<a href='...'></a>). Tags <em>, <sup>, <sub> <span>\n",
      " |          are also supported.\n",
      " |      textangle\n",
      " |          Sets the angle at which the `text` is drawn with\n",
      " |          respect to the horizontal.\n",
      " |      valign\n",
      " |          Sets the vertical alignment of the `text` within the\n",
      " |          box. Has an effect only if an explicit height is set to\n",
      " |          override the text height.\n",
      " |      visible\n",
      " |          Determines whether or not this annotation is visible.\n",
      " |      width\n",
      " |          Sets an explicit width for the text box. null (default)\n",
      " |          lets the text set the box width. Wider text will be\n",
      " |          clipped. There is no automatic wrapping; use <br> to\n",
      " |          start a new line.\n",
      " |      x\n",
      " |          Sets the annotation's x position. If the axis `type` is\n",
      " |          \"log\", then you must take the log of your desired\n",
      " |          range. If the axis `type` is \"date\", it should be date\n",
      " |          strings, like date data, though Date objects and unix\n",
      " |          milliseconds will be accepted and converted to strings.\n",
      " |          If the axis `type` is \"category\", it should be numbers,\n",
      " |          using the scale where each category is assigned a\n",
      " |          serial number from zero in the order it appears.\n",
      " |      xanchor\n",
      " |          Sets the text box's horizontal position anchor This\n",
      " |          anchor binds the `x` position to the \"left\", \"center\"\n",
      " |          or \"right\" of the annotation. For example, if `x` is\n",
      " |          set to 1, `xref` to \"paper\" and `xanchor` to \"right\"\n",
      " |          then the right-most portion of the annotation lines up\n",
      " |          with the right-most edge of the plotting area. If\n",
      " |          \"auto\", the anchor is equivalent to \"center\" for data-\n",
      " |          referenced annotations or if there is an arrow, whereas\n",
      " |          for paper-referenced with no arrow, the anchor picked\n",
      " |          corresponds to the closest side.\n",
      " |      xclick\n",
      " |          Toggle this annotation when clicking a data point whose\n",
      " |          `x` value is `xclick` rather than the annotation's `x`\n",
      " |          value.\n",
      " |      xref\n",
      " |          Sets the annotation's x coordinate axis. If set to a x\n",
      " |          axis id (e.g. \"x\" or \"x2\"), the `x` position refers to\n",
      " |          a x coordinate. If set to \"paper\", the `x` position\n",
      " |          refers to the distance from the left of the plotting\n",
      " |          area in normalized coordinates where 0 (1) corresponds\n",
      " |          to the left (right). If set to a x axis ID followed by\n",
      " |          \"domain\" (separated by a space), the position behaves\n",
      " |          like for \"paper\", but refers to the distance in\n",
      " |          fractions of the domain length from the left of the\n",
      " |          domain of that axis: e.g., *x2 domain* refers to the\n",
      " |          domain of the second x  axis and a x position of 0.5\n",
      " |          refers to the point between the left and the right of\n",
      " |          the domain of the second x axis.\n",
      " |      xshift\n",
      " |          Shifts the position of the whole annotation and arrow\n",
      " |          to the right (positive) or left (negative) by this many\n",
      " |          pixels.\n",
      " |      y\n",
      " |          Sets the annotation's y position. If the axis `type` is\n",
      " |          \"log\", then you must take the log of your desired\n",
      " |          range. If the axis `type` is \"date\", it should be date\n",
      " |          strings, like date data, though Date objects and unix\n",
      " |          milliseconds will be accepted and converted to strings.\n",
      " |          If the axis `type` is \"category\", it should be numbers,\n",
      " |          using the scale where each category is assigned a\n",
      " |          serial number from zero in the order it appears.\n",
      " |      yanchor\n",
      " |          Sets the text box's vertical position anchor This\n",
      " |          anchor binds the `y` position to the \"top\", \"middle\" or\n",
      " |          \"bottom\" of the annotation. For example, if `y` is set\n",
      " |          to 1, `yref` to \"paper\" and `yanchor` to \"top\" then the\n",
      " |          top-most portion of the annotation lines up with the\n",
      " |          top-most edge of the plotting area. If \"auto\", the\n",
      " |          anchor is equivalent to \"middle\" for data-referenced\n",
      " |          annotations or if there is an arrow, whereas for paper-\n",
      " |          referenced with no arrow, the anchor picked corresponds\n",
      " |          to the closest side.\n",
      " |      yclick\n",
      " |          Toggle this annotation when clicking a data point whose\n",
      " |          `y` value is `yclick` rather than the annotation's `y`\n",
      " |          value.\n",
      " |      yref\n",
      " |          Sets the annotation's y coordinate axis. If set to a y\n",
      " |          axis id (e.g. \"y\" or \"y2\"), the `y` position refers to\n",
      " |          a y coordinate. If set to \"paper\", the `y` position\n",
      " |          refers to the distance from the bottom of the plotting\n",
      " |          area in normalized coordinates where 0 (1) corresponds\n",
      " |          to the bottom (top). If set to a y axis ID followed by\n",
      " |          \"domain\" (separated by a space), the position behaves\n",
      " |          like for \"paper\", but refers to the distance in\n",
      " |          fractions of the domain length from the bottom of the\n",
      " |          domain of that axis: e.g., *y2 domain* refers to the\n",
      " |          domain of the second y  axis and a y position of 0.5\n",
      " |          refers to the point between the bottom and the top of\n",
      " |          the domain of the second y axis.\n",
      " |      yshift\n",
      " |          Shifts the position of the whole annotation and arrow\n",
      " |          up (positive) or down (negative) by this many pixels.\n",
      " |      \n",
      " |      Returns\n",
      " |      -------\n",
      " |      Annotation\n",
      " |  \n",
      " |  ----------------------------------------------------------------------\n",
      " |  Data descriptors defined here:\n",
      " |  \n",
      " |  align\n",
      " |      Sets the horizontal alignment of the `text` within the box. Has\n",
      " |      an effect only if `text` spans two or more lines (i.e. `text`\n",
      " |      contains one or more <br> HTML tags) or if an explicit width is\n",
      " |      set to override the text width.\n",
      " |      \n",
      " |      The 'align' property is an enumeration that may be specified as:\n",
      " |        - One of the following enumeration values:\n",
      " |              ['left', 'center', 'right']\n",
      " |      \n",
      " |      Returns\n",
      " |      -------\n",
      " |      Any\n",
      " |  \n",
      " |  arrowcolor\n",
      " |      Sets the color of the annotation arrow.\n",
      " |      \n",
      " |      The 'arrowcolor' property is a color and may be specified as:\n",
      " |        - A hex string (e.g. '#ff0000')\n",
      " |        - An rgb/rgba string (e.g. 'rgb(255,0,0)')\n",
      " |        - An hsl/hsla string (e.g. 'hsl(0,100%,50%)')\n",
      " |        - An hsv/hsva string (e.g. 'hsv(0,100%,100%)')\n",
      " |        - A named CSS color:\n",
      " |              aliceblue, antiquewhite, aqua, aquamarine, azure,\n",
      " |              beige, bisque, black, blanchedalmond, blue,\n",
      " |              blueviolet, brown, burlywood, cadetblue,\n",
      " |              chartreuse, chocolate, coral, cornflowerblue,\n",
      " |              cornsilk, crimson, cyan, darkblue, darkcyan,\n",
      " |              darkgoldenrod, darkgray, darkgrey, darkgreen,\n",
      " |              darkkhaki, darkmagenta, darkolivegreen, darkorange,\n",
      " |              darkorchid, darkred, darksalmon, darkseagreen,\n",
      " |              darkslateblue, darkslategray, darkslategrey,\n",
      " |              darkturquoise, darkviolet, deeppink, deepskyblue,\n",
      " |              dimgray, dimgrey, dodgerblue, firebrick,\n",
      " |              floralwhite, forestgreen, fuchsia, gainsboro,\n",
      " |              ghostwhite, gold, goldenrod, gray, grey, green,\n",
      " |              greenyellow, honeydew, hotpink, indianred, indigo,\n",
      " |              ivory, khaki, lavender, lavenderblush, lawngreen,\n",
      " |              lemonchiffon, lightblue, lightcoral, lightcyan,\n",
      " |              lightgoldenrodyellow, lightgray, lightgrey,\n",
      " |              lightgreen, lightpink, lightsalmon, lightseagreen,\n",
      " |              lightskyblue, lightslategray, lightslategrey,\n",
      " |              lightsteelblue, lightyellow, lime, limegreen,\n",
      " |              linen, magenta, maroon, mediumaquamarine,\n",
      " |              mediumblue, mediumorchid, mediumpurple,\n",
      " |              mediumseagreen, mediumslateblue, mediumspringgreen,\n",
      " |              mediumturquoise, mediumvioletred, midnightblue,\n",
      " |              mintcream, mistyrose, moccasin, navajowhite, navy,\n",
      " |              oldlace, olive, olivedrab, orange, orangered,\n",
      " |              orchid, palegoldenrod, palegreen, paleturquoise,\n",
      " |              palevioletred, papayawhip, peachpuff, peru, pink,\n",
      " |              plum, powderblue, purple, red, rosybrown,\n",
      " |              royalblue, rebeccapurple, saddlebrown, salmon,\n",
      " |              sandybrown, seagreen, seashell, sienna, silver,\n",
      " |              skyblue, slateblue, slategray, slategrey, snow,\n",
      " |              springgreen, steelblue, tan, teal, thistle, tomato,\n",
      " |              turquoise, violet, wheat, white, whitesmoke,\n",
      " |              yellow, yellowgreen\n",
      " |      \n",
      " |      Returns\n",
      " |      -------\n",
      " |      str\n",
      " |  \n",
      " |  arrowhead\n",
      " |      Sets the end annotation arrow head style.\n",
      " |      \n",
      " |      The 'arrowhead' property is a integer and may be specified as:\n",
      " |        - An int (or float that will be cast to an int)\n",
      " |          in the interval [0, 8]\n",
      " |      \n",
      " |      Returns\n",
      " |      -------\n",
      " |      int\n",
      " |  \n",
      " |  arrowside\n",
      " |      Sets the annotation arrow head position.\n",
      " |      \n",
      " |      The 'arrowside' property is a flaglist and may be specified\n",
      " |      as a string containing:\n",
      " |        - Any combination of ['end', 'start'] joined with '+' characters\n",
      " |          (e.g. 'end+start')\n",
      " |          OR exactly one of ['none'] (e.g. 'none')\n",
      " |      \n",
      " |      Returns\n",
      " |      -------\n",
      " |      Any\n",
      " |  \n",
      " |  arrowsize\n",
      " |      Sets the size of the end annotation arrow head, relative to\n",
      " |      `arrowwidth`. A value of 1 (default) gives a head about 3x as\n",
      " |      wide as the line.\n",
      " |      \n",
      " |      The 'arrowsize' property is a number and may be specified as:\n",
      " |        - An int or float in the interval [0.3, inf]\n",
      " |      \n",
      " |      Returns\n",
      " |      -------\n",
      " |      int|float\n",
      " |  \n",
      " |  arrowwidth\n",
      " |      Sets the width (in px) of annotation arrow line.\n",
      " |      \n",
      " |      The 'arrowwidth' property is a number and may be specified as:\n",
      " |        - An int or float in the interval [0.1, inf]\n",
      " |      \n",
      " |      Returns\n",
      " |      -------\n",
      " |      int|float\n",
      " |  \n",
      " |  ax\n",
      " |      Sets the x component of the arrow tail about the arrow head. If\n",
      " |      `axref` is `pixel`, a positive (negative) component corresponds\n",
      " |      to an arrow pointing from right to left (left to right). If\n",
      " |      `axref` is not `pixel` and is exactly the same as `xref`, this\n",
      " |      is an absolute value on that axis, like `x`, specified in the\n",
      " |      same coordinates as `xref`.\n",
      " |      \n",
      " |      The 'ax' property accepts values of any type\n",
      " |      \n",
      " |      Returns\n",
      " |      -------\n",
      " |      Any\n",
      " |  \n",
      " |  axref\n",
      " |      Indicates in what coordinates the tail of the annotation\n",
      " |      (ax,ay) is specified. If set to a ax axis id (e.g. \"ax\" or\n",
      " |      \"ax2\"), the `ax` position refers to a ax coordinate. If set to\n",
      " |      \"paper\", the `ax` position refers to the distance from the left\n",
      " |      of the plotting area in normalized coordinates where 0 (1)\n",
      " |      corresponds to the left (right). If set to a ax axis ID\n",
      " |      followed by \"domain\" (separated by a space), the position\n",
      " |      behaves like for \"paper\", but refers to the distance in\n",
      " |      fractions of the domain length from the left of the domain of\n",
      " |      that axis: e.g., *ax2 domain* refers to the domain of the\n",
      " |      second ax  axis and a ax position of 0.5 refers to the point\n",
      " |      between the left and the right of the domain of the second ax\n",
      " |      axis. In order for absolute positioning of the arrow to work,\n",
      " |      \"axref\" must be exactly the same as \"xref\", otherwise \"axref\"\n",
      " |      will revert to \"pixel\" (explained next). For relative\n",
      " |      positioning, \"axref\" can be set to \"pixel\", in which case the\n",
      " |      \"ax\" value is specified in pixels relative to \"x\". Absolute\n",
      " |      positioning is useful for trendline annotations which should\n",
      " |      continue to indicate the correct trend when zoomed. Relative\n",
      " |      positioning is useful for specifying the text offset for an\n",
      " |      annotated point.\n",
      " |      \n",
      " |      The 'axref' property is an enumeration that may be specified as:\n",
      " |        - One of the following enumeration values:\n",
      " |              ['pixel']\n",
      " |        - A string that matches one of the following regular expressions:\n",
      " |              ['^x([2-9]|[1-9][0-9]+)?( domain)?$']\n",
      " |      \n",
      " |      Returns\n",
      " |      -------\n",
      " |      Any\n",
      " |  \n",
      " |  ay\n",
      " |      Sets the y component of the arrow tail about the arrow head. If\n",
      " |      `ayref` is `pixel`, a positive (negative) component corresponds\n",
      " |      to an arrow pointing from bottom to top (top to bottom). If\n",
      " |      `ayref` is not `pixel` and is exactly the same as `yref`, this\n",
      " |      is an absolute value on that axis, like `y`, specified in the\n",
      " |      same coordinates as `yref`.\n",
      " |      \n",
      " |      The 'ay' property accepts values of any type\n",
      " |      \n",
      " |      Returns\n",
      " |      -------\n",
      " |      Any\n",
      " |  \n",
      " |  ayref\n",
      " |      Indicates in what coordinates the tail of the annotation\n",
      " |      (ax,ay) is specified. If set to a ay axis id (e.g. \"ay\" or\n",
      " |      \"ay2\"), the `ay` position refers to a ay coordinate. If set to\n",
      " |      \"paper\", the `ay` position refers to the distance from the\n",
      " |      bottom of the plotting area in normalized coordinates where 0\n",
      " |      (1) corresponds to the bottom (top). If set to a ay axis ID\n",
      " |      followed by \"domain\" (separated by a space), the position\n",
      " |      behaves like for \"paper\", but refers to the distance in\n",
      " |      fractions of the domain length from the bottom of the domain of\n",
      " |      that axis: e.g., *ay2 domain* refers to the domain of the\n",
      " |      second ay  axis and a ay position of 0.5 refers to the point\n",
      " |      between the bottom and the top of the domain of the second ay\n",
      " |      axis. In order for absolute positioning of the arrow to work,\n",
      " |      \"ayref\" must be exactly the same as \"yref\", otherwise \"ayref\"\n",
      " |      will revert to \"pixel\" (explained next). For relative\n",
      " |      positioning, \"ayref\" can be set to \"pixel\", in which case the\n",
      " |      \"ay\" value is specified in pixels relative to \"y\". Absolute\n",
      " |      positioning is useful for trendline annotations which should\n",
      " |      continue to indicate the correct trend when zoomed. Relative\n",
      " |      positioning is useful for specifying the text offset for an\n",
      " |      annotated point.\n",
      " |      \n",
      " |      The 'ayref' property is an enumeration that may be specified as:\n",
      " |        - One of the following enumeration values:\n",
      " |              ['pixel']\n",
      " |        - A string that matches one of the following regular expressions:\n",
      " |              ['^y([2-9]|[1-9][0-9]+)?( domain)?$']\n",
      " |      \n",
      " |      Returns\n",
      " |      -------\n",
      " |      Any\n",
      " |  \n",
      " |  bgcolor\n",
      " |      Sets the background color of the annotation.\n",
      " |      \n",
      " |      The 'bgcolor' property is a color and may be specified as:\n",
      " |        - A hex string (e.g. '#ff0000')\n",
      " |        - An rgb/rgba string (e.g. 'rgb(255,0,0)')\n",
      " |        - An hsl/hsla string (e.g. 'hsl(0,100%,50%)')\n",
      " |        - An hsv/hsva string (e.g. 'hsv(0,100%,100%)')\n",
      " |        - A named CSS color:\n",
      " |              aliceblue, antiquewhite, aqua, aquamarine, azure,\n",
      " |              beige, bisque, black, blanchedalmond, blue,\n",
      " |              blueviolet, brown, burlywood, cadetblue,\n",
      " |              chartreuse, chocolate, coral, cornflowerblue,\n",
      " |              cornsilk, crimson, cyan, darkblue, darkcyan,\n",
      " |              darkgoldenrod, darkgray, darkgrey, darkgreen,\n",
      " |              darkkhaki, darkmagenta, darkolivegreen, darkorange,\n",
      " |              darkorchid, darkred, darksalmon, darkseagreen,\n",
      " |              darkslateblue, darkslategray, darkslategrey,\n",
      " |              darkturquoise, darkviolet, deeppink, deepskyblue,\n",
      " |              dimgray, dimgrey, dodgerblue, firebrick,\n",
      " |              floralwhite, forestgreen, fuchsia, gainsboro,\n",
      " |              ghostwhite, gold, goldenrod, gray, grey, green,\n",
      " |              greenyellow, honeydew, hotpink, indianred, indigo,\n",
      " |              ivory, khaki, lavender, lavenderblush, lawngreen,\n",
      " |              lemonchiffon, lightblue, lightcoral, lightcyan,\n",
      " |              lightgoldenrodyellow, lightgray, lightgrey,\n",
      " |              lightgreen, lightpink, lightsalmon, lightseagreen,\n",
      " |              lightskyblue, lightslategray, lightslategrey,\n",
      " |              lightsteelblue, lightyellow, lime, limegreen,\n",
      " |              linen, magenta, maroon, mediumaquamarine,\n",
      " |              mediumblue, mediumorchid, mediumpurple,\n",
      " |              mediumseagreen, mediumslateblue, mediumspringgreen,\n",
      " |              mediumturquoise, mediumvioletred, midnightblue,\n",
      " |              mintcream, mistyrose, moccasin, navajowhite, navy,\n",
      " |              oldlace, olive, olivedrab, orange, orangered,\n",
      " |              orchid, palegoldenrod, palegreen, paleturquoise,\n",
      " |              palevioletred, papayawhip, peachpuff, peru, pink,\n",
      " |              plum, powderblue, purple, red, rosybrown,\n",
      " |              royalblue, rebeccapurple, saddlebrown, salmon,\n",
      " |              sandybrown, seagreen, seashell, sienna, silver,\n",
      " |              skyblue, slateblue, slategray, slategrey, snow,\n",
      " |              springgreen, steelblue, tan, teal, thistle, tomato,\n",
      " |              turquoise, violet, wheat, white, whitesmoke,\n",
      " |              yellow, yellowgreen\n",
      " |      \n",
      " |      Returns\n",
      " |      -------\n",
      " |      str\n",
      " |  \n",
      " |  bordercolor\n",
      " |      Sets the color of the border enclosing the annotation `text`.\n",
      " |      \n",
      " |      The 'bordercolor' property is a color and may be specified as:\n",
      " |        - A hex string (e.g. '#ff0000')\n",
      " |        - An rgb/rgba string (e.g. 'rgb(255,0,0)')\n",
      " |        - An hsl/hsla string (e.g. 'hsl(0,100%,50%)')\n",
      " |        - An hsv/hsva string (e.g. 'hsv(0,100%,100%)')\n",
      " |        - A named CSS color:\n",
      " |              aliceblue, antiquewhite, aqua, aquamarine, azure,\n",
      " |              beige, bisque, black, blanchedalmond, blue,\n",
      " |              blueviolet, brown, burlywood, cadetblue,\n",
      " |              chartreuse, chocolate, coral, cornflowerblue,\n",
      " |              cornsilk, crimson, cyan, darkblue, darkcyan,\n",
      " |              darkgoldenrod, darkgray, darkgrey, darkgreen,\n",
      " |              darkkhaki, darkmagenta, darkolivegreen, darkorange,\n",
      " |              darkorchid, darkred, darksalmon, darkseagreen,\n",
      " |              darkslateblue, darkslategray, darkslategrey,\n",
      " |              darkturquoise, darkviolet, deeppink, deepskyblue,\n",
      " |              dimgray, dimgrey, dodgerblue, firebrick,\n",
      " |              floralwhite, forestgreen, fuchsia, gainsboro,\n",
      " |              ghostwhite, gold, goldenrod, gray, grey, green,\n",
      " |              greenyellow, honeydew, hotpink, indianred, indigo,\n",
      " |              ivory, khaki, lavender, lavenderblush, lawngreen,\n",
      " |              lemonchiffon, lightblue, lightcoral, lightcyan,\n",
      " |              lightgoldenrodyellow, lightgray, lightgrey,\n",
      " |              lightgreen, lightpink, lightsalmon, lightseagreen,\n",
      " |              lightskyblue, lightslategray, lightslategrey,\n",
      " |              lightsteelblue, lightyellow, lime, limegreen,\n",
      " |              linen, magenta, maroon, mediumaquamarine,\n",
      " |              mediumblue, mediumorchid, mediumpurple,\n",
      " |              mediumseagreen, mediumslateblue, mediumspringgreen,\n",
      " |              mediumturquoise, mediumvioletred, midnightblue,\n",
      " |              mintcream, mistyrose, moccasin, navajowhite, navy,\n",
      " |              oldlace, olive, olivedrab, orange, orangered,\n",
      " |              orchid, palegoldenrod, palegreen, paleturquoise,\n",
      " |              palevioletred, papayawhip, peachpuff, peru, pink,\n",
      " |              plum, powderblue, purple, red, rosybrown,\n",
      " |              royalblue, rebeccapurple, saddlebrown, salmon,\n",
      " |              sandybrown, seagreen, seashell, sienna, silver,\n",
      " |              skyblue, slateblue, slategray, slategrey, snow,\n",
      " |              springgreen, steelblue, tan, teal, thistle, tomato,\n",
      " |              turquoise, violet, wheat, white, whitesmoke,\n",
      " |              yellow, yellowgreen\n",
      " |      \n",
      " |      Returns\n",
      " |      -------\n",
      " |      str\n",
      " |  \n",
      " |  borderpad\n",
      " |      Sets the padding (in px) between the `text` and the enclosing\n",
      " |      border.\n",
      " |      \n",
      " |      The 'borderpad' property is a number and may be specified as:\n",
      " |        - An int or float in the interval [0, inf]\n",
      " |      \n",
      " |      Returns\n",
      " |      -------\n",
      " |      int|float\n",
      " |  \n",
      " |  borderwidth\n",
      " |      Sets the width (in px) of the border enclosing the annotation\n",
      " |      `text`.\n",
      " |      \n",
      " |      The 'borderwidth' property is a number and may be specified as:\n",
      " |        - An int or float in the interval [0, inf]\n",
      " |      \n",
      " |      Returns\n",
      " |      -------\n",
      " |      int|float\n",
      " |  \n",
      " |  captureevents\n",
      " |      Determines whether the annotation text box captures mouse move\n",
      " |      and click events, or allows those events to pass through to\n",
      " |      data points in the plot that may be behind the annotation. By\n",
      " |      default `captureevents` is False unless `hovertext` is\n",
      " |      provided. If you use the event `plotly_clickannotation` without\n",
      " |      `hovertext` you must explicitly enable `captureevents`.\n",
      " |      \n",
      " |      The 'captureevents' property must be specified as a bool\n",
      " |      (either True, or False)\n",
      " |      \n",
      " |      Returns\n",
      " |      -------\n",
      " |      bool\n",
      " |  \n",
      " |  clicktoshow\n",
      " |      Makes this annotation respond to clicks on the plot. If you\n",
      " |      click a data point that exactly matches the `x` and `y` values\n",
      " |      of this annotation, and it is hidden (visible: false), it will\n",
      " |      appear. In \"onoff\" mode, you must click the same point again to\n",
      " |      make it disappear, so if you click multiple points, you can\n",
      " |      show multiple annotations. In \"onout\" mode, a click anywhere\n",
      " |      else in the plot (on another data point or not) will hide this\n",
      " |      annotation. If you need to show/hide this annotation in\n",
      " |      response to different `x` or `y` values, you can set `xclick`\n",
      " |      and/or `yclick`. This is useful for example to label the side\n",
      " |      of a bar. To label markers though, `standoff` is preferred over\n",
      " |      `xclick` and `yclick`.\n",
      " |      \n",
      " |      The 'clicktoshow' property is an enumeration that may be specified as:\n",
      " |        - One of the following enumeration values:\n",
      " |              [False, 'onoff', 'onout']\n",
      " |      \n",
      " |      Returns\n",
      " |      -------\n",
      " |      Any\n",
      " |  \n",
      " |  font\n",
      " |      Sets the annotation text font.\n",
      " |      \n",
      " |      The 'font' property is an instance of Font\n",
      " |      that may be specified as:\n",
      " |        - An instance of :class:`plotly.graph_objs.layout.annotation.Font`\n",
      " |        - A dict of string/value properties that will be passed\n",
      " |          to the Font constructor\n",
      " |      \n",
      " |          Supported dict properties:\n",
      " |      \n",
      " |              color\n",
      " |      \n",
      " |              family\n",
      " |                  HTML font family - the typeface that will be\n",
      " |                  applied by the web browser. The web browser\n",
      " |                  will only be able to apply a font if it is\n",
      " |                  available on the system which it operates.\n",
      " |                  Provide multiple font families, separated by\n",
      " |                  commas, to indicate the preference in which to\n",
      " |                  apply fonts if they aren't available on the\n",
      " |                  system. The Chart Studio Cloud (at\n",
      " |                  https://chart-studio.plotly.com or on-premise)\n",
      " |                  generates images on a server, where only a\n",
      " |                  select number of fonts are installed and\n",
      " |                  supported. These include \"Arial\", \"Balto\",\n",
      " |                  \"Courier New\", \"Droid Sans\",, \"Droid Serif\",\n",
      " |                  \"Droid Sans Mono\", \"Gravitas One\", \"Old\n",
      " |                  Standard TT\", \"Open Sans\", \"Overpass\", \"PT Sans\n",
      " |                  Narrow\", \"Raleway\", \"Times New Roman\".\n",
      " |              size\n",
      " |      \n",
      " |      Returns\n",
      " |      -------\n",
      " |      plotly.graph_objs.layout.annotation.Font\n",
      " |  \n",
      " |  height\n",
      " |      Sets an explicit height for the text box. null (default) lets\n",
      " |      the text set the box height. Taller text will be clipped.\n",
      " |      \n",
      " |      The 'height' property is a number and may be specified as:\n",
      " |        - An int or float in the interval [1, inf]\n",
      " |      \n",
      " |      Returns\n",
      " |      -------\n",
      " |      int|float\n",
      " |  \n",
      " |  hoverlabel\n",
      " |      The 'hoverlabel' property is an instance of Hoverlabel\n",
      " |      that may be specified as:\n",
      " |        - An instance of :class:`plotly.graph_objs.layout.annotation.Hoverlabel`\n",
      " |        - A dict of string/value properties that will be passed\n",
      " |          to the Hoverlabel constructor\n",
      " |      \n",
      " |          Supported dict properties:\n",
      " |      \n",
      " |              bgcolor\n",
      " |                  Sets the background color of the hover label.\n",
      " |                  By default uses the annotation's `bgcolor` made\n",
      " |                  opaque, or white if it was transparent.\n",
      " |              bordercolor\n",
      " |                  Sets the border color of the hover label. By\n",
      " |                  default uses either dark grey or white, for\n",
      " |                  maximum contrast with `hoverlabel.bgcolor`.\n",
      " |              font\n",
      " |                  Sets the hover label text font. By default uses\n",
      " |                  the global hover font and size, with color from\n",
      " |                  `hoverlabel.bordercolor`.\n",
      " |      \n",
      " |      Returns\n",
      " |      -------\n",
      " |      plotly.graph_objs.layout.annotation.Hoverlabel\n",
      " |  \n",
      " |  hovertext\n",
      " |      Sets text to appear when hovering over this annotation. If\n",
      " |      omitted or blank, no hover label will appear.\n",
      " |      \n",
      " |      The 'hovertext' property is a string and must be specified as:\n",
      " |        - A string\n",
      " |        - A number that will be converted to a string\n",
      " |      \n",
      " |      Returns\n",
      " |      -------\n",
      " |      str\n",
      " |  \n",
      " |  name\n",
      " |      When used in a template, named items are created in the output\n",
      " |      figure in addition to any items the figure already has in this\n",
      " |      array. You can modify these items in the output figure by\n",
      " |      making your own item with `templateitemname` matching this\n",
      " |      `name` alongside your modifications (including `visible: false`\n",
      " |      or `enabled: false` to hide it). Has no effect outside of a\n",
      " |      template.\n",
      " |      \n",
      " |      The 'name' property is a string and must be specified as:\n",
      " |        - A string\n",
      " |        - A number that will be converted to a string\n",
      " |      \n",
      " |      Returns\n",
      " |      -------\n",
      " |      str\n",
      " |  \n",
      " |  opacity\n",
      " |      Sets the opacity of the annotation (text + arrow).\n",
      " |      \n",
      " |      The 'opacity' property is a number and may be specified as:\n",
      " |        - An int or float in the interval [0, 1]\n",
      " |      \n",
      " |      Returns\n",
      " |      -------\n",
      " |      int|float\n",
      " |  \n",
      " |  showarrow\n",
      " |      Determines whether or not the annotation is drawn with an\n",
      " |      arrow. If True, `text` is placed near the arrow's tail. If\n",
      " |      False, `text` lines up with the `x` and `y` provided.\n",
      " |      \n",
      " |      The 'showarrow' property must be specified as a bool\n",
      " |      (either True, or False)\n",
      " |      \n",
      " |      Returns\n",
      " |      -------\n",
      " |      bool\n",
      " |  \n",
      " |  standoff\n",
      " |      Sets a distance, in pixels, to move the end arrowhead away from\n",
      " |      the position it is pointing at, for example to point at the\n",
      " |      edge of a marker independent of zoom. Note that this shortens\n",
      " |      the arrow from the `ax` / `ay` vector, in contrast to `xshift`\n",
      " |      / `yshift` which moves everything by this amount.\n",
      " |      \n",
      " |      The 'standoff' property is a number and may be specified as:\n",
      " |        - An int or float in the interval [0, inf]\n",
      " |      \n",
      " |      Returns\n",
      " |      -------\n",
      " |      int|float\n",
      " |  \n",
      " |  startarrowhead\n",
      " |      Sets the start annotation arrow head style.\n",
      " |      \n",
      " |      The 'startarrowhead' property is a integer and may be specified as:\n",
      " |        - An int (or float that will be cast to an int)\n",
      " |          in the interval [0, 8]\n",
      " |      \n",
      " |      Returns\n",
      " |      -------\n",
      " |      int\n",
      " |  \n",
      " |  startarrowsize\n",
      " |      Sets the size of the start annotation arrow head, relative to\n",
      " |      `arrowwidth`. A value of 1 (default) gives a head about 3x as\n",
      " |      wide as the line.\n",
      " |      \n",
      " |      The 'startarrowsize' property is a number and may be specified as:\n",
      " |        - An int or float in the interval [0.3, inf]\n",
      " |      \n",
      " |      Returns\n",
      " |      -------\n",
      " |      int|float\n",
      " |  \n",
      " |  startstandoff\n",
      " |      Sets a distance, in pixels, to move the start arrowhead away\n",
      " |      from the position it is pointing at, for example to point at\n",
      " |      the edge of a marker independent of zoom. Note that this\n",
      " |      shortens the arrow from the `ax` / `ay` vector, in contrast to\n",
      " |      `xshift` / `yshift` which moves everything by this amount.\n",
      " |      \n",
      " |      The 'startstandoff' property is a number and may be specified as:\n",
      " |        - An int or float in the interval [0, inf]\n",
      " |      \n",
      " |      Returns\n",
      " |      -------\n",
      " |      int|float\n",
      " |  \n",
      " |  templateitemname\n",
      " |      Used to refer to a named item in this array in the template.\n",
      " |      Named items from the template will be created even without a\n",
      " |      matching item in the input figure, but you can modify one by\n",
      " |      making an item with `templateitemname` matching its `name`,\n",
      " |      alongside your modifications (including `visible: false` or\n",
      " |      `enabled: false` to hide it). If there is no template or no\n",
      " |      matching item, this item will be hidden unless you explicitly\n",
      " |      show it with `visible: true`.\n",
      " |      \n",
      " |      The 'templateitemname' property is a string and must be specified as:\n",
      " |        - A string\n",
      " |        - A number that will be converted to a string\n",
      " |      \n",
      " |      Returns\n",
      " |      -------\n",
      " |      str\n",
      " |  \n",
      " |  text\n",
      " |      Sets the text associated with this annotation. Plotly uses a\n",
      " |      subset of HTML tags to do things like newline (<br>), bold\n",
      " |      (<b></b>), italics (<i></i>), hyperlinks (<a href='...'></a>).\n",
      " |      Tags <em>, <sup>, <sub> <span> are also supported.\n",
      " |      \n",
      " |      The 'text' property is a string and must be specified as:\n",
      " |        - A string\n",
      " |        - A number that will be converted to a string\n",
      " |      \n",
      " |      Returns\n",
      " |      -------\n",
      " |      str\n",
      " |  \n",
      " |  textangle\n",
      " |      Sets the angle at which the `text` is drawn with respect to the\n",
      " |      horizontal.\n",
      " |      \n",
      " |      The 'textangle' property is a angle (in degrees) that may be\n",
      " |      specified as a number between -180 and 180. Numeric values outside this\n",
      " |      range are converted to the equivalent value\n",
      " |      (e.g. 270 is converted to -90).\n",
      " |      \n",
      " |      Returns\n",
      " |      -------\n",
      " |      int|float\n",
      " |  \n",
      " |  valign\n",
      " |      Sets the vertical alignment of the `text` within the box. Has\n",
      " |      an effect only if an explicit height is set to override the\n",
      " |      text height.\n",
      " |      \n",
      " |      The 'valign' property is an enumeration that may be specified as:\n",
      " |        - One of the following enumeration values:\n",
      " |              ['top', 'middle', 'bottom']\n",
      " |      \n",
      " |      Returns\n",
      " |      -------\n",
      " |      Any\n",
      " |  \n",
      " |  visible\n",
      " |      Determines whether or not this annotation is visible.\n",
      " |      \n",
      " |      The 'visible' property must be specified as a bool\n",
      " |      (either True, or False)\n",
      " |      \n",
      " |      Returns\n",
      " |      -------\n",
      " |      bool\n",
      " |  \n",
      " |  width\n",
      " |      Sets an explicit width for the text box. null (default) lets\n",
      " |      the text set the box width. Wider text will be clipped. There\n",
      " |      is no automatic wrapping; use <br> to start a new line.\n",
      " |      \n",
      " |      The 'width' property is a number and may be specified as:\n",
      " |        - An int or float in the interval [1, inf]\n",
      " |      \n",
      " |      Returns\n",
      " |      -------\n",
      " |      int|float\n",
      " |  \n",
      " |  x\n",
      " |      Sets the annotation's x position. If the axis `type` is \"log\",\n",
      " |      then you must take the log of your desired range. If the axis\n",
      " |      `type` is \"date\", it should be date strings, like date data,\n",
      " |      though Date objects and unix milliseconds will be accepted and\n",
      " |      converted to strings. If the axis `type` is \"category\", it\n",
      " |      should be numbers, using the scale where each category is\n",
      " |      assigned a serial number from zero in the order it appears.\n",
      " |      \n",
      " |      The 'x' property accepts values of any type\n",
      " |      \n",
      " |      Returns\n",
      " |      -------\n",
      " |      Any\n",
      " |  \n",
      " |  xanchor\n",
      " |      Sets the text box's horizontal position anchor This anchor\n",
      " |      binds the `x` position to the \"left\", \"center\" or \"right\" of\n",
      " |      the annotation. For example, if `x` is set to 1, `xref` to\n",
      " |      \"paper\" and `xanchor` to \"right\" then the right-most portion of\n",
      " |      the annotation lines up with the right-most edge of the\n",
      " |      plotting area. If \"auto\", the anchor is equivalent to \"center\"\n",
      " |      for data-referenced annotations or if there is an arrow,\n",
      " |      whereas for paper-referenced with no arrow, the anchor picked\n",
      " |      corresponds to the closest side.\n",
      " |      \n",
      " |      The 'xanchor' property is an enumeration that may be specified as:\n",
      " |        - One of the following enumeration values:\n",
      " |              ['auto', 'left', 'center', 'right']\n",
      " |      \n",
      " |      Returns\n",
      " |      -------\n",
      " |      Any\n",
      " |  \n",
      " |  xclick\n",
      " |      Toggle this annotation when clicking a data point whose `x`\n",
      " |      value is `xclick` rather than the annotation's `x` value.\n",
      " |      \n",
      " |      The 'xclick' property accepts values of any type\n",
      " |      \n",
      " |      Returns\n",
      " |      -------\n",
      " |      Any\n",
      " |  \n",
      " |  xref\n",
      " |      Sets the annotation's x coordinate axis. If set to a x axis id\n",
      " |      (e.g. \"x\" or \"x2\"), the `x` position refers to a x coordinate.\n",
      " |      If set to \"paper\", the `x` position refers to the distance from\n",
      " |      the left of the plotting area in normalized coordinates where 0\n",
      " |      (1) corresponds to the left (right). If set to a x axis ID\n",
      " |      followed by \"domain\" (separated by a space), the position\n",
      " |      behaves like for \"paper\", but refers to the distance in\n",
      " |      fractions of the domain length from the left of the domain of\n",
      " |      that axis: e.g., *x2 domain* refers to the domain of the second\n",
      " |      x  axis and a x position of 0.5 refers to the point between the\n",
      " |      left and the right of the domain of the second x axis.\n",
      " |      \n",
      " |      The 'xref' property is an enumeration that may be specified as:\n",
      " |        - One of the following enumeration values:\n",
      " |              ['paper']\n",
      " |        - A string that matches one of the following regular expressions:\n",
      " |              ['^x([2-9]|[1-9][0-9]+)?( domain)?$']\n",
      " |      \n",
      " |      Returns\n",
      " |      -------\n",
      " |      Any\n",
      " |  \n",
      " |  xshift\n",
      " |      Shifts the position of the whole annotation and arrow to the\n",
      " |      right (positive) or left (negative) by this many pixels.\n",
      " |      \n",
      " |      The 'xshift' property is a number and may be specified as:\n",
      " |        - An int or float\n",
      " |      \n",
      " |      Returns\n",
      " |      -------\n",
      " |      int|float\n",
      " |  \n",
      " |  y\n",
      " |      Sets the annotation's y position. If the axis `type` is \"log\",\n",
      " |      then you must take the log of your desired range. If the axis\n",
      " |      `type` is \"date\", it should be date strings, like date data,\n",
      " |      though Date objects and unix milliseconds will be accepted and\n",
      " |      converted to strings. If the axis `type` is \"category\", it\n",
      " |      should be numbers, using the scale where each category is\n",
      " |      assigned a serial number from zero in the order it appears.\n",
      " |      \n",
      " |      The 'y' property accepts values of any type\n",
      " |      \n",
      " |      Returns\n",
      " |      -------\n",
      " |      Any\n",
      " |  \n",
      " |  yanchor\n",
      " |      Sets the text box's vertical position anchor This anchor binds\n",
      " |      the `y` position to the \"top\", \"middle\" or \"bottom\" of the\n",
      " |      annotation. For example, if `y` is set to 1, `yref` to \"paper\"\n",
      " |      and `yanchor` to \"top\" then the top-most portion of the\n",
      " |      annotation lines up with the top-most edge of the plotting\n",
      " |      area. If \"auto\", the anchor is equivalent to \"middle\" for data-\n",
      " |      referenced annotations or if there is an arrow, whereas for\n",
      " |      paper-referenced with no arrow, the anchor picked corresponds\n",
      " |      to the closest side.\n",
      " |      \n",
      " |      The 'yanchor' property is an enumeration that may be specified as:\n",
      " |        - One of the following enumeration values:\n",
      " |              ['auto', 'top', 'middle', 'bottom']\n",
      " |      \n",
      " |      Returns\n",
      " |      -------\n",
      " |      Any\n",
      " |  \n",
      " |  yclick\n",
      " |      Toggle this annotation when clicking a data point whose `y`\n",
      " |      value is `yclick` rather than the annotation's `y` value.\n",
      " |      \n",
      " |      The 'yclick' property accepts values of any type\n",
      " |      \n",
      " |      Returns\n",
      " |      -------\n",
      " |      Any\n",
      " |  \n",
      " |  yref\n",
      " |      Sets the annotation's y coordinate axis. If set to a y axis id\n",
      " |      (e.g. \"y\" or \"y2\"), the `y` position refers to a y coordinate.\n",
      " |      If set to \"paper\", the `y` position refers to the distance from\n",
      " |      the bottom of the plotting area in normalized coordinates where\n",
      " |      0 (1) corresponds to the bottom (top). If set to a y axis ID\n",
      " |      followed by \"domain\" (separated by a space), the position\n",
      " |      behaves like for \"paper\", but refers to the distance in\n",
      " |      fractions of the domain length from the bottom of the domain of\n",
      " |      that axis: e.g., *y2 domain* refers to the domain of the second\n",
      " |      y  axis and a y position of 0.5 refers to the point between the\n",
      " |      bottom and the top of the domain of the second y axis.\n",
      " |      \n",
      " |      The 'yref' property is an enumeration that may be specified as:\n",
      " |        - One of the following enumeration values:\n",
      " |              ['paper']\n",
      " |        - A string that matches one of the following regular expressions:\n",
      " |              ['^y([2-9]|[1-9][0-9]+)?( domain)?$']\n",
      " |      \n",
      " |      Returns\n",
      " |      -------\n",
      " |      Any\n",
      " |  \n",
      " |  yshift\n",
      " |      Shifts the position of the whole annotation and arrow up\n",
      " |      (positive) or down (negative) by this many pixels.\n",
      " |      \n",
      " |      The 'yshift' property is a number and may be specified as:\n",
      " |        - An int or float\n",
      " |      \n",
      " |      Returns\n",
      " |      -------\n",
      " |      int|float\n",
      " |  \n",
      " |  ----------------------------------------------------------------------\n",
      " |  Methods inherited from plotly.basedatatypes.BasePlotlyType:\n",
      " |  \n",
      " |  __contains__(self, prop)\n",
      " |      Determine whether object contains a property or nested property\n",
      " |      \n",
      " |      Parameters\n",
      " |      ----------\n",
      " |      prop : str|tuple\n",
      " |          If prop is a simple string (e.g. 'foo'), then return true of the\n",
      " |          object contains an element named 'foo'\n",
      " |      \n",
      " |          If prop is a property path string (e.g. 'foo[0].bar'),\n",
      " |          then return true if the obejct contains the nested elements for\n",
      " |          each entry in the path string (e.g. 'bar' in obj['foo'][0])\n",
      " |      \n",
      " |          If prop is a property path tuple (e.g. ('foo', 0, 'bar')),\n",
      " |          then return true if the object contains the nested elements for\n",
      " |          each entry in the path string (e.g. 'bar' in obj['foo'][0])\n",
      " |      \n",
      " |      Returns\n",
      " |      -------\n",
      " |      bool\n",
      " |  \n",
      " |  __eq__(self, other)\n",
      " |      Test for equality\n",
      " |      \n",
      " |      To be considered equal, `other` must have the same type as this object\n",
      " |      and their `to_plotly_json` representaitons must be identical.\n",
      " |      \n",
      " |      Parameters\n",
      " |      ----------\n",
      " |      other\n",
      " |          The object to compare against\n",
      " |      \n",
      " |      Returns\n",
      " |      -------\n",
      " |      bool\n",
      " |  \n",
      " |  __getitem__(self, prop)\n",
      " |      Get item or nested item from object\n",
      " |      \n",
      " |      Parameters\n",
      " |      ----------\n",
      " |      prop : str|tuple\n",
      " |      \n",
      " |          If prop is the name of a property of this object, then the\n",
      " |          property is returned.\n",
      " |      \n",
      " |          If prop is a nested property path string (e.g. 'foo[1].bar'),\n",
      " |          then a nested property is returned (e.g. obj['foo'][1]['bar'])\n",
      " |      \n",
      " |          If prop is a path tuple (e.g. ('foo', 1, 'bar')), then a nested\n",
      " |          property is returned (e.g. obj['foo'][1]['bar']).\n",
      " |      \n",
      " |      Returns\n",
      " |      -------\n",
      " |      Any\n",
      " |  \n",
      " |  __iter__(self)\n",
      " |      Return an iterator over the object's properties\n",
      " |  \n",
      " |  __reduce__(self)\n",
      " |      Custom implementation of reduce is used to support deep copying\n",
      " |      and pickling\n",
      " |  \n",
      " |  __repr__(self)\n",
      " |      Customize object representation when displayed in the\n",
      " |      terminal/notebook\n",
      " |  \n",
      " |  __setattr__(self, prop, value)\n",
      " |      Parameters\n",
      " |      ----------\n",
      " |      prop : str\n",
      " |          The name of a direct child of this object\n",
      " |      value\n",
      " |          New property value\n",
      " |      Returns\n",
      " |      -------\n",
      " |      None\n",
      " |  \n",
      " |  __setitem__(self, prop, value)\n",
      " |      Parameters\n",
      " |      ----------\n",
      " |      prop : str\n",
      " |          The name of a direct child of this object\n",
      " |      \n",
      " |          Note: Setting nested properties using property path string or\n",
      " |          property path tuples is not supported.\n",
      " |      value\n",
      " |          New property value\n",
      " |      \n",
      " |      Returns\n",
      " |      -------\n",
      " |      None\n",
      " |  \n",
      " |  on_change(self, callback, *args, **kwargs)\n",
      " |      Register callback function to be called when certain properties or\n",
      " |      subproperties of this object are modified.\n",
      " |      \n",
      " |      Callback will be invoked whenever ANY of these properties is\n",
      " |      modified. Furthermore, the callback will only be invoked once even\n",
      " |      if multiple properties are modified during the same restyle /\n",
      " |      relayout / update operation.\n",
      " |      \n",
      " |      Parameters\n",
      " |      ----------\n",
      " |      callback : function\n",
      " |          Function that accepts 1 + len(`args`) parameters. First parameter\n",
      " |          is this object. Second through last parameters are the\n",
      " |          property / subpropery values referenced by args.\n",
      " |      args : list[str|tuple[int|str]]\n",
      " |          List of property references where each reference may be one of:\n",
      " |      \n",
      " |            1) A property name string (e.g. 'foo') for direct properties\n",
      " |            2) A property path string (e.g. 'foo[0].bar') for\n",
      " |               subproperties\n",
      " |            3) A property path tuple (e.g. ('foo', 0, 'bar')) for\n",
      " |               subproperties\n",
      " |      \n",
      " |      append : bool\n",
      " |          True if callback should be appended to previously registered\n",
      " |          callback on the same properties, False if callback should replace\n",
      " |          previously registered callbacks on the same properties. Defaults\n",
      " |          to False.\n",
      " |      \n",
      " |      Examples\n",
      " |      --------\n",
      " |      \n",
      " |      Register callback that prints out the range extents of the xaxis and\n",
      " |      yaxis whenever either either of them changes.\n",
      " |      \n",
      " |      >>> import plotly.graph_objects as go\n",
      " |      >>> fig = go.Figure(go.Scatter(x=[1, 2], y=[1, 0]))\n",
      " |      >>> fig.layout.on_change(\n",
      " |      ...   lambda obj, xrange, yrange: print(\"%s-%s\" % (xrange, yrange)),\n",
      " |      ...   ('xaxis', 'range'), ('yaxis', 'range'))\n",
      " |      \n",
      " |      \n",
      " |      Returns\n",
      " |      -------\n",
      " |      None\n",
      " |  \n",
      " |  pop(self, key, *args)\n",
      " |      Remove the value associated with the specified key and return it\n",
      " |      \n",
      " |      Parameters\n",
      " |      ----------\n",
      " |      key: str\n",
      " |          Property name\n",
      " |      dflt\n",
      " |          The default value to return if key was not found in object\n",
      " |      \n",
      " |      Returns\n",
      " |      -------\n",
      " |      value\n",
      " |          The removed value that was previously associated with key\n",
      " |      \n",
      " |      Raises\n",
      " |      ------\n",
      " |      KeyError\n",
      " |          If key is not in object and no dflt argument specified\n",
      " |  \n",
      " |  to_plotly_json(self)\n",
      " |      Return plotly JSON representation of object as a Python dict\n",
      " |      \n",
      " |      Returns\n",
      " |      -------\n",
      " |      dict\n",
      " |  \n",
      " |  update(self, dict1=None, overwrite=False, **kwargs)\n",
      " |      Update the properties of an object with a dict and/or with\n",
      " |      keyword arguments.\n",
      " |      \n",
      " |      This recursively updates the structure of the original\n",
      " |      object with the values in the input dict / keyword arguments.\n",
      " |      \n",
      " |      Parameters\n",
      " |      ----------\n",
      " |      dict1 : dict\n",
      " |          Dictionary of properties to be updated\n",
      " |      overwrite: bool\n",
      " |          If True, overwrite existing properties. If False, apply updates\n",
      " |          to existing properties recursively, preserving existing\n",
      " |          properties that are not specified in the update operation.\n",
      " |      kwargs :\n",
      " |          Keyword/value pair of properties to be updated\n",
      " |      \n",
      " |      Returns\n",
      " |      -------\n",
      " |      BasePlotlyType\n",
      " |          Updated plotly object\n",
      " |  \n",
      " |  ----------------------------------------------------------------------\n",
      " |  Readonly properties inherited from plotly.basedatatypes.BasePlotlyType:\n",
      " |  \n",
      " |  figure\n",
      " |      Reference to the top-level Figure or FigureWidget that this object\n",
      " |      belongs to. None if the object does not belong to a Figure\n",
      " |      \n",
      " |      Returns\n",
      " |      -------\n",
      " |      Union[BaseFigure, None]\n",
      " |  \n",
      " |  parent\n",
      " |      Return the object's parent, or None if the object has no parent\n",
      " |      Returns\n",
      " |      -------\n",
      " |      BasePlotlyType|BaseFigure\n",
      " |  \n",
      " |  plotly_name\n",
      " |      The plotly name of the object\n",
      " |      \n",
      " |      Returns\n",
      " |      -------\n",
      " |      str\n",
      " |  \n",
      " |  ----------------------------------------------------------------------\n",
      " |  Data descriptors inherited from plotly.basedatatypes.BasePlotlyType:\n",
      " |  \n",
      " |  __dict__\n",
      " |      dictionary for instance variables (if defined)\n",
      " |  \n",
      " |  __weakref__\n",
      " |      list of weak references to the object (if defined)\n",
      " |  \n",
      " |  ----------------------------------------------------------------------\n",
      " |  Data and other attributes inherited from plotly.basedatatypes.BasePlotlyType:\n",
      " |  \n",
      " |  __hash__ = None\n",
      "\n"
     ]
    }
   ],
   "source": [
    "help(go.layout.Annotation)"
   ]
  },
  {
   "cell_type": "markdown",
   "metadata": {},
   "source": []
  }
 ],
 "metadata": {
  "kernelspec": {
   "display_name": "base",
   "language": "python",
   "name": "python3"
  },
  "language_info": {
   "codemirror_mode": {
    "name": "ipython",
    "version": 3
   },
   "file_extension": ".py",
   "mimetype": "text/x-python",
   "name": "python",
   "nbconvert_exporter": "python",
   "pygments_lexer": "ipython3",
   "version": "3.9.13 (main, Aug 25 2022, 23:51:50) [MSC v.1916 64 bit (AMD64)]"
  },
  "orig_nbformat": 4,
  "vscode": {
   "interpreter": {
    "hash": "d61a106f4f95053d975edfedf808c4ae0acbb7ba9bad92599ad0b36f7f6653ee"
   }
  }
 },
 "nbformat": 4,
 "nbformat_minor": 2
}
